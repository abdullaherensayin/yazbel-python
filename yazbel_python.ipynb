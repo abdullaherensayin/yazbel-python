{
  "nbformat": 4,
  "nbformat_minor": 0,
  "metadata": {
    "colab": {
      "provenance": [],
      "authorship_tag": "ABX9TyNSfDQI0QbT/Dnrn2BcmIlL",
      "include_colab_link": true
    },
    "kernelspec": {
      "name": "python3",
      "display_name": "Python 3"
    },
    "language_info": {
      "name": "python"
    }
  },
  "cells": [
    {
      "cell_type": "markdown",
      "metadata": {
        "id": "view-in-github",
        "colab_type": "text"
      },
      "source": [
        "<a href=\"https://colab.research.google.com/github/abdullaherensayin/yazbel-python/blob/main/yazbel_python.ipynb\" target=\"_parent\"><img src=\"https://colab.research.google.com/assets/colab-badge.svg\" alt=\"Open In Colab\"/></a>"
      ]
    },
    {
      "cell_type": "markdown",
      "source": [
        "![python-language-png.png](data:image/png;base64,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)"
      ],
      "metadata": {
        "id": "Y3IcfpOfcKDg"
      }
    },
    {
      "cell_type": "markdown",
      "source": [
        "#Python Content\n",
        "1. [Etkileşimli Kabukta İlk Adımlar](#1)  \n",
        "1. [Karakter Dizilerine Giriş](#2)\n",
        "1. [Sayılara Giriş](#3)\n",
        "1. [Değişkenler](#4)\n",
        "1. [pow() fonksiyonu](#5)                 \n",
        "1. [Değişkenlerin Değerini Takas Etme](#6)\n",
        "1. [Etkileşimli Kabuğun Hafızası](#7)\n",
        "1. [print() Fonksiyonu](#8)\n",
        "1. [Kaçış Dizileri](#9)\n",
        "1. [Kullanıcıdan Bilgi Almak](#10)\n",
        "1. [Tip Dönüşümleri](#11)\n",
        "1. [format() Metodu](#12)\n",
        "1. [Koşullu Durumlar](#13)\n",
        "1. [Koşul Deyimleri](#14)\n",
        "1. [Döngüler (Loops)](#15)\n",
        "1. [İlgili Araçlar](#16)"
      ],
      "metadata": {
        "id": "nHgDoCamc0b5"
      }
    },
    {
      "cell_type": "markdown",
      "source": [
        "<a id=\"1\"></a>\n",
        "##Etkileşimli Kabukta İlk Adımlar"
      ],
      "metadata": {
        "id": "3291jAkKesCh"
      }
    },
    {
      "cell_type": "markdown",
      "source": [
        "\"Merhaba Zalim Dünya!\"\n",
        "\n",
        "# Bu arada yukarıdaki kodlar içinde görünen >>> işaretini siz yazmayacaksınız. \n",
        "# Bu işareti etkileşimli kabuğun görünümünü temsil etmek için yerleştirdik oraya. \n",
        "# Siz “Merhaba Zalim Dünya!” satırını yazdıktan sonra doğruca Enter düğmesine basacaksınız."
      ],
      "metadata": {
        "id": "TAXg37iBe9J_"
      }
    },
    {
      "cell_type": "markdown",
      "source": [
        "<a id=\"2\"></a>\n",
        "##Karakter Dizilerine Giriş\n",
        " * Dediğimiz gibi, yukarıda yazdığımız küçücük kod parçası sizi heyecanlandırmamış olabilir, ama aslında bu kod Python programlama dili ve bu dilin yapısı hakkında çok önemli bilgileri içinde barındırıyor.\n",
        "\n",
        "* Teknik olarak söylemek gerekirse, yukarıda yazdığımız “Merhaba Zalim Dünya!” ifadesi bir karakter dizisidir. İngilizcede buna string adı verilir ve programlama açısından son derece önemli bir kavramdır bu. Kavramın adından da rahatlıkla anlayabileceğiniz gibi, bir veya daha fazla karakterden oluşan öğelere karakter dizisi (string) diyoruz.\n",
        "\n",
        "* Karakter dizileri bütün programcılık maceramız boyunca karşımıza çıkacak. O yüzden bu kavramı ne kadar erken öğrenirsek o kadar iyi.\n",
        "\n",
        "* Peki bir verinin karakter dizisi olup olmamasının bize ne faydası var? Yani yukarıdaki cümle karakter dizisi olmuş olmamış bize ne?\n",
        "\n",
        "* Python’da, o anda elinizde bulunan bir verinin hangi tipte olduğunu bilmek son derece önemlidir. Çünkü bir verinin ait olduğu tip, o veriyle neler yapıp neler yapamayacağınızı belirler. Python’da her veri tipinin belli başlı özellikleri vardır. Dolayısıyla, elimizdeki bir verinin tipini bilmezsek o veriyi programlarımızda etkin bir şekilde kullanamayız. İşte yukarıda örneğini verdiğimiz “Merhaba Zalim Dünya!” adlı karakter dizisi de bir veri tipidir. Python’da karakter dizileri dışında başka veri tipleri de bulunur. Biraz sonra başka veri tiplerini de inceleyeceğiz.\n",
        "\n",
        "* Dikkat ederseniz “Merhaba Zalim Dünya!” adlı karakter dizisini tırnak içinde gösterdik. Bu da çok önemli bir bilgidir. Eğer bu cümleyi tırnak içine almazsak programımız hata verecektir:"
      ],
      "metadata": {
        "id": "AzYDjro3fIMt"
      }
    },
    {
      "cell_type": "code",
      "source": [
        "Merhaba Zalim Dünya!"
      ],
      "metadata": {
        "colab": {
          "base_uri": "https://localhost:8080/",
          "height": 130
        },
        "id": "tGQ2o4ZYcz37",
        "outputId": "381ac8cd-a26d-4083-9ed9-8358938992ea"
      },
      "execution_count": null,
      "outputs": [
        {
          "output_type": "error",
          "ename": "SyntaxError",
          "evalue": "ignored",
          "traceback": [
            "\u001b[0;36m  File \u001b[0;32m\"<ipython-input-1-e36811c7a47d>\"\u001b[0;36m, line \u001b[0;32m1\u001b[0m\n\u001b[0;31m    Merhaba Zalim Dünya!\u001b[0m\n\u001b[0m                ^\u001b[0m\n\u001b[0;31mSyntaxError\u001b[0m\u001b[0;31m:\u001b[0m invalid syntax\n"
          ]
        }
      ]
    },
    {
      "cell_type": "code",
      "source": [
        "\"elma\""
      ],
      "metadata": {
        "colab": {
          "base_uri": "https://localhost:8080/",
          "height": 36
        },
        "id": "6er5LmSWfXjf",
        "outputId": "ab768ca4-109c-4d03-8878-63825d6c8aed"
      },
      "execution_count": null,
      "outputs": [
        {
          "output_type": "execute_result",
          "data": {
            "text/plain": [
              "'elma'"
            ],
            "application/vnd.google.colaboratory.intrinsic+json": {
              "type": "string"
            }
          },
          "metadata": {},
          "execution_count": 2
        }
      ]
    },
    {
      "cell_type": "markdown",
      "source": [
        "Eğer herhangi bir verinin karakter dizisi olup olmadığı konusunda tereddütünüz varsa, type() adlı bir fonksiyondan yararlanarak o verinin tipini sorgulayabilirsiniz. Bu fonksiyonu şöyle kullanıyoruz:\n",
        "\n",
        "# type()"
      ],
      "metadata": {
        "id": "B93AIieHff5S"
      }
    },
    {
      "cell_type": "code",
      "source": [
        "type(\"elma\")"
      ],
      "metadata": {
        "colab": {
          "base_uri": "https://localhost:8080/"
        },
        "id": "T9ZhQGrmfb6O",
        "outputId": "06fc733b-5799-4e55-ddb8-04baf7e9f07e"
      },
      "execution_count": null,
      "outputs": [
        {
          "output_type": "execute_result",
          "data": {
            "text/plain": [
              "str"
            ]
          },
          "metadata": {},
          "execution_count": 3
        }
      ]
    },
    {
      "cell_type": "markdown",
      "source": [
        "* Yukarıdaki çıktıda bizi ilgilendiren kısım, sondaki ‘str’ ifadesi. Tahmin edebileceğiniz gibi, bu ifade string kelimesinin kısaltmasıdır.\n",
        "* Bu kelimenin Türkçede karakter dizisi anlamına geldiğini söylemiştik. O halde yukarıdaki çıktıya bakarak, “Elma” öğesinin bir karakter dizisi olduğunu söyleyebiliyoruz"
      ],
      "metadata": {
        "id": "Quf63cmkfphS"
      }
    },
    {
      "cell_type": "code",
      "source": [
        "\"yazbel\" + \".com\""
      ],
      "metadata": {
        "colab": {
          "base_uri": "https://localhost:8080/",
          "height": 36
        },
        "id": "tNUBnXKUfqRl",
        "outputId": "c4f002c8-46d9-4c99-b75d-62bab091ff1d"
      },
      "execution_count": null,
      "outputs": [
        {
          "output_type": "execute_result",
          "data": {
            "text/plain": [
              "'yazbel.com'"
            ],
            "application/vnd.google.colaboratory.intrinsic+json": {
              "type": "string"
            }
          },
          "metadata": {},
          "execution_count": 4
        }
      ]
    },
    {
      "cell_type": "code",
      "source": [
        "\"abdullah\" + \" \" +\" \" + \"Erensayın\""
      ],
      "metadata": {
        "colab": {
          "base_uri": "https://localhost:8080/",
          "height": 36
        },
        "id": "ypmMojq8ftK3",
        "outputId": "88562c93-505d-4367-9791-29ab4a996ad7"
      },
      "execution_count": null,
      "outputs": [
        {
          "output_type": "execute_result",
          "data": {
            "text/plain": [
              "'abdullah  Erensayın'"
            ],
            "application/vnd.google.colaboratory.intrinsic+json": {
              "type": "string"
            }
          },
          "metadata": {},
          "execution_count": 5
        }
      ]
    },
    {
      "cell_type": "markdown",
      "source": [
        "* Bu arada, karakter dizilerini birleştirmek için mutlaka + işareti kullanmak zorunda değilsiniz. Siz + işaretini kullanmasanız da Python sizin karakter dizilerini birleştirmek istediğinizi anlayacak kadar zekidir:"
      ],
      "metadata": {
        "id": "NKyhIWmHf1fP"
      }
    },
    {
      "cell_type": "code",
      "source": [
        "\"www\" \".\" \"google\" \".\" \"com\""
      ],
      "metadata": {
        "colab": {
          "base_uri": "https://localhost:8080/",
          "height": 36
        },
        "id": "NTBSRDYef2Ag",
        "outputId": "d2a4e0be-f1fb-476c-fdf7-1412f8c37587"
      },
      "execution_count": null,
      "outputs": [
        {
          "output_type": "execute_result",
          "data": {
            "text/plain": [
              "'www.google.com'"
            ],
            "application/vnd.google.colaboratory.intrinsic+json": {
              "type": "string"
            }
          },
          "metadata": {},
          "execution_count": 6
        }
      ]
    },
    {
      "cell_type": "code",
      "source": [
        "\"gooxtechnology\" \".\" \"com\""
      ],
      "metadata": {
        "colab": {
          "base_uri": "https://localhost:8080/",
          "height": 36
        },
        "id": "34MqD4jpf6bh",
        "outputId": "1bd01bec-08ea-4645-ddec-e0b3689d15bd"
      },
      "execution_count": null,
      "outputs": [
        {
          "output_type": "execute_result",
          "data": {
            "text/plain": [
              "'gooxtechnology.com'"
            ],
            "application/vnd.google.colaboratory.intrinsic+json": {
              "type": "string"
            }
          },
          "metadata": {},
          "execution_count": 7
        }
      ]
    },
    {
      "cell_type": "markdown",
      "source": [
        "* \"  +  \" işareti dışında karakter dizileri ile birlikte * (çarpı) işaretini de kullanabiliriz. O zaman şöyle bir etki elde ederiz:"
      ],
      "metadata": {
        "id": "YkkFkoSwgC6t"
      }
    },
    {
      "cell_type": "code",
      "source": [
        "\"w\" * 3"
      ],
      "metadata": {
        "colab": {
          "base_uri": "https://localhost:8080/",
          "height": 36
        },
        "id": "sBPfGKbJgDkI",
        "outputId": "76d0e265-b894-462e-989e-fcd7ba7ad482"
      },
      "execution_count": null,
      "outputs": [
        {
          "output_type": "execute_result",
          "data": {
            "text/plain": [
              "'www'"
            ],
            "application/vnd.google.colaboratory.intrinsic+json": {
              "type": "string"
            }
          },
          "metadata": {},
          "execution_count": 8
        }
      ]
    },
    {
      "cell_type": "code",
      "source": [
        "\"yavaş \" * 2"
      ],
      "metadata": {
        "colab": {
          "base_uri": "https://localhost:8080/",
          "height": 36
        },
        "id": "quxmkF4vgHDv",
        "outputId": "fdafca72-0082-42bf-9e22-614cd07f0d3c"
      },
      "execution_count": null,
      "outputs": [
        {
          "output_type": "execute_result",
          "data": {
            "text/plain": [
              "'yavaş yavaş '"
            ],
            "application/vnd.google.colaboratory.intrinsic+json": {
              "type": "string"
            }
          },
          "metadata": {},
          "execution_count": 9
        }
      ]
    },
    {
      "cell_type": "code",
      "source": [
        "\"uzak\" + \" \" * 5 + \"çok uzak...\""
      ],
      "metadata": {
        "colab": {
          "base_uri": "https://localhost:8080/",
          "height": 36
        },
        "id": "OwIv11V0gKY-",
        "outputId": "8a337d11-5885-45f4-e76a-711ea17d1ca1"
      },
      "execution_count": null,
      "outputs": [
        {
          "output_type": "execute_result",
          "data": {
            "text/plain": [
              "'uzak     çok uzak...'"
            ],
            "application/vnd.google.colaboratory.intrinsic+json": {
              "type": "string"
            }
          },
          "metadata": {},
          "execution_count": 10
        }
      ]
    },
    {
      "cell_type": "markdown",
      "source": [
        "<a id=\"3\"></a>\n",
        "## Sayılara Giriş\n",
        "\n",
        "* Python’da birtakım veri tipleri bulunur ve karakter dizileri de bu veri tiplerinden yalnızca biridir. Veri tipi olarak karakter dizilerinin dışında, biraz önce aritmetik işleçler vesilesiyle sözünü ettiğimiz, bir de ‘sayı’ (number) adlı bir veri tipi vardır.\n",
        "\n",
        "* Herhalde sayıların ne anlama geldiğini tarif etmeye gerek yok. Bunlar bildiğimiz sayılardır. Mesela:"
      ],
      "metadata": {
        "id": "WBlWUDlSgRYS"
      }
    },
    {
      "cell_type": "code",
      "source": [
        "34"
      ],
      "metadata": {
        "colab": {
          "base_uri": "https://localhost:8080/"
        },
        "id": "aS2fVEd2gNnq",
        "outputId": "ffebbe0d-34ad-4a7b-f807-4d501ed29ad7"
      },
      "execution_count": null,
      "outputs": [
        {
          "output_type": "execute_result",
          "data": {
            "text/plain": [
              "34"
            ]
          },
          "metadata": {},
          "execution_count": 11
        }
      ]
    },
    {
      "cell_type": "code",
      "source": [
        "13.5"
      ],
      "metadata": {
        "colab": {
          "base_uri": "https://localhost:8080/"
        },
        "id": "FFjBF1mQgYpN",
        "outputId": "32e0f739-4022-4df2-f3de-806634b55a23"
      },
      "execution_count": null,
      "outputs": [
        {
          "output_type": "execute_result",
          "data": {
            "text/plain": [
              "13.5"
            ]
          },
          "metadata": {},
          "execution_count": 12
        }
      ]
    },
    {
      "cell_type": "code",
      "source": [
        "(10+2j)"
      ],
      "metadata": {
        "colab": {
          "base_uri": "https://localhost:8080/"
        },
        "id": "h_hLVNQFgbRz",
        "outputId": "d34e2486-c15e-43be-e36b-3aa4dcdb378e"
      },
      "execution_count": null,
      "outputs": [
        {
          "output_type": "execute_result",
          "data": {
            "text/plain": [
              "(10+2j)"
            ]
          },
          "metadata": {},
          "execution_count": 13
        }
      ]
    },
    {
      "cell_type": "markdown",
      "source": [
        "* 13.5 ise bir kayan noktalı sayıdır (floating point number veya kısaca float). Bu arada kayan noktalı sayılarda basamak ayracı olarak virgül değil, nokta işareti kullandığımıza dikkat edin.\n",
        "\n",
        "* En sonda gördüğümüz 10+2j sayısı ise bir karmaşık sayıdır (complex). Ancak eğer matematikle yoğun bir şekilde uğraşmıyorsanız karmaşık sayılar pek karşınıza çıkmaz."
      ],
      "metadata": {
        "id": "Wydr26SrghyH"
      }
    },
    {
      "cell_type": "code",
      "source": [
        "25*25"
      ],
      "metadata": {
        "colab": {
          "base_uri": "https://localhost:8080/"
        },
        "id": "Rfua4pTogii8",
        "outputId": "90918a87-8c7f-4710-f9cd-630245d3f9d7"
      },
      "execution_count": null,
      "outputs": [
        {
          "output_type": "execute_result",
          "data": {
            "text/plain": [
              "625"
            ]
          },
          "metadata": {},
          "execution_count": 14
        }
      ]
    },
    {
      "cell_type": "code",
      "source": [
        "13/2"
      ],
      "metadata": {
        "colab": {
          "base_uri": "https://localhost:8080/"
        },
        "id": "sxNEqtDhgm0K",
        "outputId": "dea38b11-b3ce-4e39-a278-b892a4b8618f"
      },
      "execution_count": null,
      "outputs": [
        {
          "output_type": "execute_result",
          "data": {
            "text/plain": [
              "6.5"
            ]
          },
          "metadata": {},
          "execution_count": 15
        }
      ]
    },
    {
      "cell_type": "code",
      "source": [
        "34657 # Bu bir sayıdır. Peki ya şu?"
      ],
      "metadata": {
        "colab": {
          "base_uri": "https://localhost:8080/"
        },
        "id": "BG5_5pXegpKE",
        "outputId": "b151ba0e-da29-4404-8e6a-c004b4af5ad9"
      },
      "execution_count": null,
      "outputs": [
        {
          "output_type": "execute_result",
          "data": {
            "text/plain": [
              "34657"
            ]
          },
          "metadata": {},
          "execution_count": 16
        }
      ]
    },
    {
      "cell_type": "code",
      "source": [
        "\"34657\" \n",
        "# Bu ise bir karakter dizisidir. Dilerseniz biraz önce öğrendiğimiz \n",
        "# type() fonksiyonu yardımıyla bu verilerin tipini sorgulayalım:"
      ],
      "metadata": {
        "colab": {
          "base_uri": "https://localhost:8080/",
          "height": 36
        },
        "id": "UgdGI4BjgssO",
        "outputId": "4a3a79de-2d1b-41f1-97c9-e96506e3d28a"
      },
      "execution_count": null,
      "outputs": [
        {
          "output_type": "execute_result",
          "data": {
            "text/plain": [
              "'34657'"
            ],
            "application/vnd.google.colaboratory.intrinsic+json": {
              "type": "string"
            }
          },
          "metadata": {},
          "execution_count": 17
        }
      ]
    },
    {
      "cell_type": "code",
      "source": [
        "type(34657)"
      ],
      "metadata": {
        "colab": {
          "base_uri": "https://localhost:8080/"
        },
        "id": "QGDipkn5gwnp",
        "outputId": "6c399457-dfb9-406c-cb02-473806479cc3"
      },
      "execution_count": null,
      "outputs": [
        {
          "output_type": "execute_result",
          "data": {
            "text/plain": [
              "int"
            ]
          },
          "metadata": {},
          "execution_count": 18
        }
      ]
    },
    {
      "cell_type": "code",
      "source": [
        "type(\"34657\")"
      ],
      "metadata": {
        "colab": {
          "base_uri": "https://localhost:8080/"
        },
        "id": "WoZZfQjxgzdg",
        "outputId": "b8d55724-35c7-4054-8a96-98b439fe0be5"
      },
      "execution_count": null,
      "outputs": [
        {
          "output_type": "execute_result",
          "data": {
            "text/plain": [
              "str"
            ]
          },
          "metadata": {},
          "execution_count": 19
        }
      ]
    },
    {
      "cell_type": "markdown",
      "source": [
        "* Gördüğünüz gibi, 34657 sayısını tırnak içine aldığımızda bu sayı artık sayı olma özelliğini \n",
        " yitiriyor ve bir karakter dizisi oluyor. \n",
        "* Şu anda bu çok önemsiz bir ayrıntıymış gibi gelebilir size, ama aslında son derece önemli bir konudur bu. \n",
        "* Bu durumun etkilerini şu örneklerde görebilirsiniz:"
      ],
      "metadata": {
        "id": "Lk3izRozg_gb"
      }
    },
    {
      "cell_type": "code",
      "source": [
        "23 + 65"
      ],
      "metadata": {
        "colab": {
          "base_uri": "https://localhost:8080/"
        },
        "id": "hF4VAz0Qg3Ub",
        "outputId": "a85eb7ee-325a-44aa-a56f-2e41e6659a90"
      },
      "execution_count": null,
      "outputs": [
        {
          "output_type": "execute_result",
          "data": {
            "text/plain": [
              "88"
            ]
          },
          "metadata": {},
          "execution_count": 20
        }
      ]
    },
    {
      "cell_type": "code",
      "source": [
        "\"23\" + \"65\"\n",
        "\n",
        "# Bir de şuna bakın:\n",
        "# Burada ise Python iki karakter dizisini yan yana yazmakla yetindi; yani bunları birleştirdi. \n",
        "# Python açısından “23” ve 23 birbirinden farklıdır. “23” bir karakter dizisi iken, 23 bir sayıdır. \n",
        "# Aynı şey “65” ve 65 için de geçerlidir. \n",
        "# Yani Python açısından “65” ile “Merhaba Zalim Dünya!” arasında hiç bir fark yoktur. \n",
        "# Bunların ikisi de karakter dizisi sınıfına girer.\n",
        "# Ancak 65 ile “65” birbirinden farklıdır. 65 bir sayı iken, “65” bir karakter dizisidir."
      ],
      "metadata": {
        "colab": {
          "base_uri": "https://localhost:8080/",
          "height": 36
        },
        "id": "DSqjSSklhbnu",
        "outputId": "a941c3d9-e940-41a0-b0ec-f9885e956dac"
      },
      "execution_count": null,
      "outputs": [
        {
          "output_type": "execute_result",
          "data": {
            "text/plain": [
              "'2365'"
            ],
            "application/vnd.google.colaboratory.intrinsic+json": {
              "type": "string"
            }
          },
          "metadata": {},
          "execution_count": 22
        }
      ]
    },
    {
      "cell_type": "code",
      "source": [
        "45 + \"45\"\n",
        "\n",
        "# Gördüğünüz gibi, yukarıdaki kodlar hata veriyor. \n",
        "# Bunun sebebi bir sayı (45) ile bir karakter dizisini (“45”) birbiriyle toplamaya çalışmamızdır. \n",
        "# Asla unutmayın, aritmetik işlemler ancak sayılar arasında yapılır. \n",
        "# Karakter dizileri ile herhangi bir aritmetik işlem yapılamaz."
      ],
      "metadata": {
        "colab": {
          "base_uri": "https://localhost:8080/",
          "height": 235
        },
        "id": "AvBEIgP6hNZd",
        "outputId": "055b8fc5-7d3c-4f3b-e316-3530267b48a5"
      },
      "execution_count": null,
      "outputs": [
        {
          "output_type": "error",
          "ename": "TypeError",
          "evalue": "ignored",
          "traceback": [
            "\u001b[0;31m---------------------------------------------------------------------------\u001b[0m",
            "\u001b[0;31mTypeError\u001b[0m                                 Traceback (most recent call last)",
            "\u001b[0;32m<ipython-input-21-6e22fc1201ae>\u001b[0m in \u001b[0;36m<module>\u001b[0;34m\u001b[0m\n\u001b[0;32m----> 1\u001b[0;31m \u001b[0;36m45\u001b[0m \u001b[0;34m+\u001b[0m \u001b[0;34m\"45\"\u001b[0m\u001b[0;34m\u001b[0m\u001b[0;34m\u001b[0m\u001b[0m\n\u001b[0m\u001b[1;32m      2\u001b[0m \u001b[0;34m\u001b[0m\u001b[0m\n\u001b[1;32m      3\u001b[0m \u001b[0;31m# Gördüğünüz gibi, yukarıdaki kodlar hata veriyor.\u001b[0m\u001b[0;34m\u001b[0m\u001b[0;34m\u001b[0m\u001b[0;34m\u001b[0m\u001b[0m\n\u001b[1;32m      4\u001b[0m \u001b[0;31m# Bunun sebebi bir sayı (45) ile bir karakter dizisini (“45”) birbiriyle toplamaya çalışmamızdır.\u001b[0m\u001b[0;34m\u001b[0m\u001b[0;34m\u001b[0m\u001b[0;34m\u001b[0m\u001b[0m\n\u001b[1;32m      5\u001b[0m \u001b[0;31m# Asla unutmayın, aritmetik işlemler ancak sayılar arasında yapılır.\u001b[0m\u001b[0;34m\u001b[0m\u001b[0;34m\u001b[0m\u001b[0;34m\u001b[0m\u001b[0m\n",
            "\u001b[0;31mTypeError\u001b[0m: unsupported operand type(s) for +: 'int' and 'str'"
          ]
        }
      ]
    },
    {
      "cell_type": "markdown",
      "source": [
        "<a id=\"4\"></a>\n",
        "## Değişkenler\n",
        "\n",
        "* Peki nedir bu değişken dediğimiz şey?\n",
        "* Python’da bir program içinde değerlere verilen isimlere değişken denir. Hemen bir örnek verelim:"
      ],
      "metadata": {
        "id": "ojetek4_hjfB"
      }
    },
    {
      "cell_type": "code",
      "source": [
        "n = 5\n",
        "# Burada 5 sayısını bir değişkene atadık. Değişkenimiz ise n. \n",
        "# Ayrıca 5 sayısını bir değişkene atamak için = işaretinden yararlandığımıza da çok dikkat edin. \n",
        "# Buradan, = işaretinin Python programlama dilinde değer atama işlemleri için kullanıldığı sonucunu çıkarıyoruz.\n",
        "\n",
        "# n = 5 gibi bir komut yardımıyla 5 değerini n adlı değişkene atamamız \n",
        "# sayesinde artık ne zaman 5 sayısına ihtiyaç duysak bu n değişkenini çağırmamız yeterli olacaktır:"
      ],
      "metadata": {
        "id": "6JtAI2tqhkNc"
      },
      "execution_count": null,
      "outputs": []
    },
    {
      "cell_type": "code",
      "source": [
        "n"
      ],
      "metadata": {
        "colab": {
          "base_uri": "https://localhost:8080/"
        },
        "id": "6w94NzNUhnIJ",
        "outputId": "6c86e8a0-8b33-440d-b1fd-927dbaf87159"
      },
      "execution_count": null,
      "outputs": [
        {
          "output_type": "execute_result",
          "data": {
            "text/plain": [
              "5"
            ]
          },
          "metadata": {},
          "execution_count": 24
        }
      ]
    },
    {
      "cell_type": "code",
      "source": [
        "n*(12)+13"
      ],
      "metadata": {
        "colab": {
          "base_uri": "https://localhost:8080/"
        },
        "id": "TVtSrckZhrKu",
        "outputId": "5b0652d9-2912-471d-8711-bb2f472f0e66"
      },
      "execution_count": null,
      "outputs": [
        {
          "output_type": "execute_result",
          "data": {
            "text/plain": [
              "73"
            ]
          },
          "metadata": {},
          "execution_count": 25
        }
      ]
    },
    {
      "cell_type": "markdown",
      "source": [
        "* Bu pi değişkeninin değeri ile n değişkeninin değerini toplayalım"
      ],
      "metadata": {
        "id": "l7r3EZg-hyKh"
      }
    },
    {
      "cell_type": "code",
      "source": [
        "pi = 3.14\n",
        "pi + n"
      ],
      "metadata": {
        "colab": {
          "base_uri": "https://localhost:8080/"
        },
        "id": "_OJ3LsuKhzVd",
        "outputId": "966d4d84-a0e2-4751-c326-8908cc4d5888"
      },
      "execution_count": null,
      "outputs": [
        {
          "output_type": "execute_result",
          "data": {
            "text/plain": [
              "8.14"
            ]
          },
          "metadata": {},
          "execution_count": 26
        }
      ]
    },
    {
      "cell_type": "code",
      "source": [
        "\"firat_ozgul_1980\"\n",
        "# ve:"
      ],
      "metadata": {
        "colab": {
          "base_uri": "https://localhost:8080/",
          "height": 36
        },
        "id": "Zea3G1gnh2ij",
        "outputId": "b93fa5bb-dbee-4c9b-91b0-79d6dc3c41b3"
      },
      "execution_count": null,
      "outputs": [
        {
          "output_type": "execute_result",
          "data": {
            "text/plain": [
              "'firat_ozgul_1980'"
            ],
            "application/vnd.google.colaboratory.intrinsic+json": {
              "type": "string"
            }
          },
          "metadata": {},
          "execution_count": 27
        }
      ]
    },
    {
      "cell_type": "code",
      "source": [
        "\"rT%65#$hGfUY56123\""
      ],
      "metadata": {
        "colab": {
          "base_uri": "https://localhost:8080/",
          "height": 36
        },
        "id": "2VWq7XZFh6GM",
        "outputId": "ae3321e1-5e1d-423b-afbd-b6197fb472b0"
      },
      "execution_count": null,
      "outputs": [
        {
          "output_type": "execute_result",
          "data": {
            "text/plain": [
              "'rT%65#$hGfUY56123'"
            ],
            "application/vnd.google.colaboratory.intrinsic+json": {
              "type": "string"
            }
          },
          "metadata": {},
          "execution_count": 28
        }
      ]
    },
    {
      "cell_type": "markdown",
      "source": [
        "* Gördüğünüz gibi, elde ettiğimiz veriler tırnak içinde yer alıyor. Yani bunlar birer karakter dizisi. Şimdi gelin yukarıda bahsettiğimiz **len() fonksiyonunu** kullanarak bu karakter dizilerinin uzunluğunu ölçelim.\n",
        "\n",
        "* Dediğimiz gibi, **len()** de tıpkı **type()** gibi bir fonksiyondur. Dolayısıyla **len()** fonksiyonunun kullanımı **type()** fonksiyonunun kullanımına çok benzer. Nasıl **type()** fonksiyonu bize, kendisine verdiğimiz parametrelerin tipini söylüyorsa, **len()** fonksiyonu da kendisine verdiğimiz parametrelerin uzunluğunu söyler.\n",
        "\n",
        "* Dikkatlice bakın:"
      ],
      "metadata": {
        "id": "nOcDGZPgiAJ3"
      }
    },
    {
      "cell_type": "code",
      "source": [
        "len(\"firat_ozgul_1980\")"
      ],
      "metadata": {
        "colab": {
          "base_uri": "https://localhost:8080/"
        },
        "id": "ON6wF39mh86h",
        "outputId": "464bf354-1ff3-44f4-82aa-f1a674bd49b8"
      },
      "execution_count": null,
      "outputs": [
        {
          "output_type": "execute_result",
          "data": {
            "text/plain": [
              "16"
            ]
          },
          "metadata": {},
          "execution_count": 29
        }
      ]
    },
    {
      "cell_type": "code",
      "source": [
        "len(\"rT%65#$hGfUY56123\")"
      ],
      "metadata": {
        "colab": {
          "base_uri": "https://localhost:8080/"
        },
        "id": "wgnJVppbiFN1",
        "outputId": "3d657f3c-dc71-4e5f-85e3-18dda04df5f9"
      },
      "execution_count": null,
      "outputs": [
        {
          "output_type": "execute_result",
          "data": {
            "text/plain": [
              "17"
            ]
          },
          "metadata": {},
          "execution_count": 30
        }
      ]
    },
    {
      "cell_type": "code",
      "source": [
        "type(len(\"rT%65#$hGfUY56123\"))"
      ],
      "metadata": {
        "colab": {
          "base_uri": "https://localhost:8080/"
        },
        "id": "-b8WJcgTiInj",
        "outputId": "dc0527b5-5651-4804-e0e3-aa607d006df9"
      },
      "execution_count": null,
      "outputs": [
        {
          "output_type": "execute_result",
          "data": {
            "text/plain": [
              "int"
            ]
          },
          "metadata": {},
          "execution_count": 31
        }
      ]
    },
    {
      "cell_type": "markdown",
      "source": [
        "* Demek ki “firat_ozgul_1980” adlı karakter dizisinde 16; \n",
        "* “rT%65#$hGfUY56123” adlı karakter dizisinde ise 17 karakter varmış. \n",
        "* Bizim istediğimiz şey bu iki değerin toplam uzunluğunun 40 karakteri aşmaması. \n",
        "* Bunu denetlemek için yapmamız gereken şey bu iki değerin uzunluğunu birbiriyle toplamak olmalı. Yani:"
      ],
      "metadata": {
        "id": "12lfr7-biPci"
      }
    },
    {
      "cell_type": "code",
      "source": [
        "len(\"firat_ozgul_1980\") + len(\"rT%65#$hGfUY56123\")"
      ],
      "metadata": {
        "colab": {
          "base_uri": "https://localhost:8080/"
        },
        "id": "gL8WlR3aiLRd",
        "outputId": "79e0bbe0-33ea-488c-b0b0-8a3cc8b28e5b"
      },
      "execution_count": null,
      "outputs": [
        {
          "output_type": "execute_result",
          "data": {
            "text/plain": [
              "33"
            ]
          },
          "metadata": {},
          "execution_count": 32
        }
      ]
    },
    {
      "cell_type": "markdown",
      "source": [
        "* Yukarıda gördüğünüz gibi, değerleri her defasında tekrar yazmak yerine bunları bir değişkene atayıp, gereken yerde bu değişkeni kullanmak çok daha pratik bir yöntem.\n",
        "\n",
        "* Aynı şeyi programımız için de yapabiliriz:"
      ],
      "metadata": {
        "id": "JdFlqWPkiZXL"
      }
    },
    {
      "cell_type": "code",
      "source": [
        "kullanıcı_adı = \"firat_ozgul_1980\"\n",
        "parola = \"rT%65#$hGfUY56123\""
      ],
      "metadata": {
        "id": "hrbRAgeoiUoG"
      },
      "execution_count": null,
      "outputs": []
    },
    {
      "cell_type": "code",
      "source": [
        "len(kullanıcı_adı)"
      ],
      "metadata": {
        "colab": {
          "base_uri": "https://localhost:8080/"
        },
        "id": "Xz462nMQiq1Z",
        "outputId": "c7a27bd9-aa2d-4097-a714-31c6807c2a51"
      },
      "execution_count": null,
      "outputs": [
        {
          "output_type": "execute_result",
          "data": {
            "text/plain": [
              "16"
            ]
          },
          "metadata": {},
          "execution_count": 34
        }
      ]
    },
    {
      "cell_type": "code",
      "source": [
        "k_adı_uunluğu = len(kullanıcı_adı)\n",
        "type(k_adı_uunluğu)"
      ],
      "metadata": {
        "colab": {
          "base_uri": "https://localhost:8080/"
        },
        "id": "_RCGbzJfiuD0",
        "outputId": "dd701ea6-d352-4ba4-f694-95ecd0565e67"
      },
      "execution_count": null,
      "outputs": [
        {
          "output_type": "execute_result",
          "data": {
            "text/plain": [
              "int"
            ]
          },
          "metadata": {},
          "execution_count": 35
        }
      ]
    },
    {
      "cell_type": "code",
      "source": [
        "import keyword\n",
        "keyword.kwlist\n",
        "\n",
        "['False', 'None', 'True', 'and', 'as', 'assert', 'async', 'await', 'break', 'class', 'continue', 'def', 'del',\n",
        "'elif', 'else', 'except', 'finally', 'for', 'from', 'global', 'if', 'import', 'in', 'is', 'lambda', 'nonlocal',\n",
        "'not', 'or', 'pass', 'raise', 'return', 'try', 'while', 'with', 'yield']"
      ],
      "metadata": {
        "colab": {
          "base_uri": "https://localhost:8080/"
        },
        "id": "pTSRFT5ri0ia",
        "outputId": "90ece0b4-26fb-4e3c-de0d-48fd78229bc0"
      },
      "execution_count": null,
      "outputs": [
        {
          "output_type": "execute_result",
          "data": {
            "text/plain": [
              "['False',\n",
              " 'None',\n",
              " 'True',\n",
              " 'and',\n",
              " 'as',\n",
              " 'assert',\n",
              " 'async',\n",
              " 'await',\n",
              " 'break',\n",
              " 'class',\n",
              " 'continue',\n",
              " 'def',\n",
              " 'del',\n",
              " 'elif',\n",
              " 'else',\n",
              " 'except',\n",
              " 'finally',\n",
              " 'for',\n",
              " 'from',\n",
              " 'global',\n",
              " 'if',\n",
              " 'import',\n",
              " 'in',\n",
              " 'is',\n",
              " 'lambda',\n",
              " 'nonlocal',\n",
              " 'not',\n",
              " 'or',\n",
              " 'pass',\n",
              " 'raise',\n",
              " 'return',\n",
              " 'try',\n",
              " 'while',\n",
              " 'with',\n",
              " 'yield']"
            ]
          },
          "metadata": {},
          "execution_count": 36
        }
      ]
    },
    {
      "cell_type": "code",
      "source": [
        "len(keyword.kwlist)"
      ],
      "metadata": {
        "colab": {
          "base_uri": "https://localhost:8080/"
        },
        "id": "8fdXwmuei499",
        "outputId": "55e27478-cd8f-44e5-8bf7-8bb9bce104c8"
      },
      "execution_count": null,
      "outputs": [
        {
          "output_type": "execute_result",
          "data": {
            "text/plain": [
              "35"
            ]
          },
          "metadata": {},
          "execution_count": 37
        }
      ]
    },
    {
      "cell_type": "code",
      "source": [
        "yasaklı_kelimeler =keyword.kwlist\n",
        "len(yasaklı_kelimeler)"
      ],
      "metadata": {
        "colab": {
          "base_uri": "https://localhost:8080/"
        },
        "id": "csHRMqZ-i8JU",
        "outputId": "4244938a-8bd3-4ade-b183-34ba25efc8c8"
      },
      "execution_count": null,
      "outputs": [
        {
          "output_type": "execute_result",
          "data": {
            "text/plain": [
              "35"
            ]
          },
          "metadata": {},
          "execution_count": 38
        }
      ]
    },
    {
      "cell_type": "code",
      "source": [
        "type = 1236\n",
        "# Bu örnekte type adında bir değişken tanımladık.\n",
        "# Şimdi mesela “elma” kelimesinin tipini denetlemek için type() fonksiyonunu kullanmaya çalışalım:type(\"elma\")\n",
        "\n",
        "# Gördüğünüz gibi, artık type() fonksiyonu çalışmıyor. \n",
        "# Çünkü siz ‘type’ kelimesini bir değişken adı olarak kullanarak, type() fonksiyonunu kullanılamaz hale getirdiniz.\n",
        "# Bu durumdan kurtulmak için etkileşimli kabuğu kapatıp tekrar açabilirsiniz.\n",
        "# Ya da eğer etkileşimli kabuğu kapatmak istemiyorsanız şu komut yardımıyla type değişkenini\n",
        "# ortadan kaldırmayı da tercih edebilirsiniz:"
      ],
      "metadata": {
        "id": "-sH4qPgei-ol"
      },
      "execution_count": null,
      "outputs": []
    },
    {
      "cell_type": "code",
      "source": [
        "del type"
      ],
      "metadata": {
        "id": "A_62a7_-jD_T"
      },
      "execution_count": null,
      "outputs": []
    },
    {
      "cell_type": "markdown",
      "source": [
        "* Böylece, (tahmin edebileceğiniz gibi delete (silmek) kelimesinin kısaltması olan) del komutuyla type değişkenini silmiş oldunuz.\n",
        "* Artık ‘type’ kelimesi yine type() fonksiyonunu çağıracak:"
      ],
      "metadata": {
        "id": "cyoW3oLsjSjw"
      }
    },
    {
      "cell_type": "code",
      "source": [
        "type(\"elma\")"
      ],
      "metadata": {
        "colab": {
          "base_uri": "https://localhost:8080/"
        },
        "id": "t2BZCXkYjPWb",
        "outputId": "570fe41b-6dfd-4120-e062-2c2b57136480"
      },
      "execution_count": null,
      "outputs": [
        {
          "output_type": "execute_result",
          "data": {
            "text/plain": [
              "str"
            ]
          },
          "metadata": {},
          "execution_count": 43
        }
      ]
    },
    {
      "cell_type": "markdown",
      "source": [
        "## Örnek kod 1:\n",
        "* Diyelim ki aylık yol masrafımızı hesaplayan bir program yazmak istiyoruz. Elimizdeki verilerin şunlar olduğunu varsayalım:\n",
        "\n",
        "* Cumartesi-Pazar günleri çalışmıyoruz.\n",
        "* Dolayısıyla ayda 22 gün çalışıyoruz.\n",
        "* Evden işe gitmek için kullandığımız vasıtanın ücreti 1.5 TL\n",
        "* İşten eve dönmek için kullandığımız vasıtanın ücreti 1.4 TL\n",
        "* Aylık yol masrafımızı hesaplayabilmek için gidiş ve dönüş ücretlerini toplayıp, bunları çalıştığımız gün sayısıyla çarpmamız yeterli olacaktır. Elimizdeki bu bilgilere göre aylık yol masrafımızı hesaplamak için şöyle bir formül üretebiliriz:\n",
        "\n",
        "\n",
        "\n",
        "* yol masrafı = gün sayısı x (gidiş ücreti + dönüş ücreti)\n",
        "\n",
        "* bizim formül bu!"
      ],
      "metadata": {
        "id": "JHA_EAbCjfWZ"
      }
    },
    {
      "cell_type": "code",
      "source": [
        "gün_sayısı = 22\n",
        "gidiş_ücreti = 1.5\n",
        "dönüş_ücreti = 1.4\n",
        "\n",
        "yol_masrafı = 22*(1.5 + 1.4)\n",
        "\n",
        "yol_masrafı"
      ],
      "metadata": {
        "colab": {
          "base_uri": "https://localhost:8080/"
        },
        "id": "cYaXMFLcjVbE",
        "outputId": "c06eb053-9159-4526-c100-43b3aa1f6efd"
      },
      "execution_count": null,
      "outputs": [
        {
          "output_type": "execute_result",
          "data": {
            "text/plain": [
              "63.8"
            ]
          },
          "metadata": {},
          "execution_count": 44
        }
      ]
    },
    {
      "cell_type": "markdown",
      "source": [
        "## Örnek kod 2:\n",
        "\n",
        "+ Mesela bir dairenin alanını (yaklaşık olarak) hesaplayan bir program yazalım.\n",
        "+ Yarı çap (r) = 8 cm\n",
        "+ pi = 3.14159\n",
        "\n",
        "\n",
        "+ dairenin alanı = pi x r^2"
      ],
      "metadata": {
        "id": "3njHP5rokpKc"
      }
    },
    {
      "cell_type": "code",
      "source": [
        "daire_alanı = 3.14159 * pow(8,2)\n",
        "daire_alanı"
      ],
      "metadata": {
        "colab": {
          "base_uri": "https://localhost:8080/"
        },
        "id": "wyoIdc-2kt-c",
        "outputId": "aa709635-3e4d-47c8-f0ad-c4ae048d10fd"
      },
      "execution_count": null,
      "outputs": [
        {
          "output_type": "execute_result",
          "data": {
            "text/plain": [
              "201.06176"
            ]
          },
          "metadata": {},
          "execution_count": 54
        }
      ]
    },
    {
      "cell_type": "markdown",
      "source": [
        "<a id=\"5\"></a>\n",
        "## pow() fonksiyonu\n",
        "\n",
        "* Daha önce öğrendiğimiz type() ve len() fonksiyonlarını nasıl kullanıyorsak **pow() fonksiyonu** da aynı şekilde kullanacağız.\n",
        "* type() ve len() fonksiyonlarını birtakım parametreler ile birlikte kullanıyorduk hatırlarsanız. Aynı şekilde **pow() fonksiyonu** da birtakım parametreler alır.\n",
        "* Daha önce öğrendiğimiz fonksiyonları tek bir parametre ile birlikte kullanmıştık. **pow() fonksiyonu** ise toplam üç farklı parametre alır. Ama genellikle bu fonksiyon yalnızca iki parametre ile kullanılır.\n",
        "\n"
      ],
      "metadata": {
        "id": "sxQcUdWkkHJh"
      }
    },
    {
      "cell_type": "code",
      "source": [
        "pow(23, 3)"
      ],
      "metadata": {
        "colab": {
          "base_uri": "https://localhost:8080/"
        },
        "id": "pj1muEVNjo_7",
        "outputId": "ea7e9832-37f9-4263-ba22-d2e418e5b78a"
      },
      "execution_count": null,
      "outputs": [
        {
          "output_type": "execute_result",
          "data": {
            "text/plain": [
              "12167"
            ]
          },
          "metadata": {},
          "execution_count": 49
        }
      ]
    },
    {
      "cell_type": "code",
      "source": [
        "# Dediğimiz gibi, pow() fonksiyonu, pek kullanılmayan üçüncü bir parametre daha alır. \n",
        "# Bu fonksiyonun üçüncü parametresi şöyle kullanılır. Dikkatlice bakın:\n",
        "# 16 sayısının 2’nci kuvvetini hesapla ve çıkan sayıyı 2’ye bölüp, bölme işleminden kalan sayıyı göster!\n",
        "\n",
        "pow(16, 2, 2)"
      ],
      "metadata": {
        "colab": {
          "base_uri": "https://localhost:8080/"
        },
        "id": "zoaoL8nrkLlE",
        "outputId": "4a8b2667-79a2-4a4f-afe7-047aa36e1175"
      },
      "execution_count": null,
      "outputs": [
        {
          "output_type": "execute_result",
          "data": {
            "text/plain": [
              "0"
            ]
          },
          "metadata": {},
          "execution_count": 50
        }
      ]
    },
    {
      "cell_type": "code",
      "source": [
        "ocak = mart = mayıs = temmuz = ağustos = ekim = aralık = 31\n",
        "nisan = haziran = eylül = kasım = 30\n",
        "şubat = 28"
      ],
      "metadata": {
        "id": "aZoiPvy0kPF_"
      },
      "execution_count": null,
      "outputs": []
    },
    {
      "cell_type": "code",
      "source": [
        "ekim"
      ],
      "metadata": {
        "colab": {
          "base_uri": "https://localhost:8080/"
        },
        "id": "4qQzmRatkTEC",
        "outputId": "371a2884-c430-4fda-c85a-7e419a539167"
      },
      "execution_count": null,
      "outputs": [
        {
          "output_type": "execute_result",
          "data": {
            "text/plain": [
              "31"
            ]
          },
          "metadata": {},
          "execution_count": 52
        }
      ]
    },
    {
      "cell_type": "code",
      "source": [
        "nisan"
      ],
      "metadata": {
        "colab": {
          "base_uri": "https://localhost:8080/"
        },
        "id": "Lc0KoILlkWFJ",
        "outputId": "e8f10be2-dcb1-4e71-a3ab-3b9f4ffc55a7"
      },
      "execution_count": null,
      "outputs": [
        {
          "output_type": "execute_result",
          "data": {
            "text/plain": [
              "30"
            ]
          },
          "metadata": {},
          "execution_count": 53
        }
      ]
    },
    {
      "cell_type": "markdown",
      "source": [
        "rnek kod 3:\n",
        "\n",
        "+ Her ay gelen doğal gaz faturasını hesaplayan bir program yazalım\n",
        "+ Mart ayı doğalgaz faturasına göre sayaçtan ölçülen hacim 346 m3. Demek ki bir ayda toplam 346 m3 doğalgaz harcamışız.\n",
        "+ Fatura tutarı 273.87 TL imiş. Yani 346 m3 doğalgaz tüketmenin bedeli 273.87 TL. \n",
        "+ Buna göre değişkenlerimizi tanımlayalım:"
      ],
      "metadata": {
        "id": "AvJEEcT7kfil"
      }
    },
    {
      "cell_type": "code",
      "source": [
        "aylık_sarfiyat = 346\n",
        "fatura_tutarı = 273.87\n",
        "\n",
        "birim_fiyat = fatura_tutarı / aylık_sarfiyat\n",
        "birim_fiyat"
      ],
      "metadata": {
        "colab": {
          "base_uri": "https://localhost:8080/"
        },
        "id": "pJj1sgHPkZcI",
        "outputId": "a3fb231b-a2d7-49be-c3c2-c0368f1c004e"
      },
      "execution_count": null,
      "outputs": [
        {
          "output_type": "execute_result",
          "data": {
            "text/plain": [
              "0.7915317919075144"
            ]
          },
          "metadata": {},
          "execution_count": 55
        }
      ]
    },
    {
      "cell_type": "code",
      "source": [
        "günlük_kullanım = aylık_sarfiyat / mart\n",
        "günlük_kullanım"
      ],
      "metadata": {
        "colab": {
          "base_uri": "https://localhost:8080/"
        },
        "id": "eyKlcMcCk08U",
        "outputId": "460373ca-2c8e-4098-bfa8-f2ddb8c2b2df"
      },
      "execution_count": null,
      "outputs": [
        {
          "output_type": "execute_result",
          "data": {
            "text/plain": [
              "11.161290322580646"
            ]
          },
          "metadata": {},
          "execution_count": 56
        }
      ]
    },
    {
      "cell_type": "markdown",
      "source": [
        "<a id=\"6\"></a>\n",
        "## Değişkenlerin Değerini Takas Etme\n",
        "\n",
        "+ Diyelim ki, işyerinizdeki personelin unvanlarını tuttuğunuz bir veritabanı var elinizde. Bu veritabanında şuna benzer ilişkiler tanımlı:\n",
        "+ İlerleyen zamanda işvereniniz sizden Osman ve Mehmet’in unvanlarını değiştirmenizi talep edebilir. Yani Osman’ı Proje Sorumlusu, Mehmet’i de Araştırma Geliştirme Müdürü yapmanızı isteyebilir sizden.\n",
        "+ Patronunuzun bu isteğini Python’da çok rahat bir biçimde yerine getirebilirsiniz. Dikkatlice inceleyelim:\n",
        "\n",
        "* a, b = b, a\n",
        "* b, a = a, b"
      ],
      "metadata": {
        "id": "a3vcLO7Nk64D"
      }
    },
    {
      "cell_type": "code",
      "source": [
        "osman = \"Araştırma Geliştirme Müdürü\"\n",
        "mehmet = \"Proje Sorumlusu\""
      ],
      "metadata": {
        "id": "ZJJwUR1uk3kU"
      },
      "execution_count": null,
      "outputs": []
    },
    {
      "cell_type": "code",
      "source": [
        "osman, mehmet = mehmet, osman"
      ],
      "metadata": {
        "id": "sS6KsUZDk_Xn"
      },
      "execution_count": null,
      "outputs": []
    },
    {
      "cell_type": "code",
      "source": [
        "osman"
      ],
      "metadata": {
        "colab": {
          "base_uri": "https://localhost:8080/",
          "height": 36
        },
        "id": "tGgmliBalCIJ",
        "outputId": "8395de04-70ff-4e85-c13a-a011aa107924"
      },
      "execution_count": null,
      "outputs": [
        {
          "output_type": "execute_result",
          "data": {
            "text/plain": [
              "'Proje Sorumlusu'"
            ],
            "application/vnd.google.colaboratory.intrinsic+json": {
              "type": "string"
            }
          },
          "metadata": {},
          "execution_count": 59
        }
      ]
    },
    {
      "cell_type": "code",
      "source": [
        "mehmet"
      ],
      "metadata": {
        "colab": {
          "base_uri": "https://localhost:8080/",
          "height": 36
        },
        "id": "mtdOL7iIlEtL",
        "outputId": "8fba77e1-65ef-41a3-c355-eb005df1e1b8"
      },
      "execution_count": null,
      "outputs": [
        {
          "output_type": "execute_result",
          "data": {
            "text/plain": [
              "'Araştırma Geliştirme Müdürü'"
            ],
            "application/vnd.google.colaboratory.intrinsic+json": {
              "type": "string"
            }
          },
          "metadata": {},
          "execution_count": 60
        }
      ]
    },
    {
      "cell_type": "markdown",
      "source": [
        "* Hazır lafı geçmişken, **len() fonksiyonunun** bazı kısıtlamalarından söz edelim. \n",
        "* Dediğimiz gibi, bu fonksiyonu kullanarak karakter dizileri içinde toplam kaç adet karakter bulunduğunu hesaplayabiliyoruz. \n",
        "* Örneğin:\n",
        "\n",
        "* **NOT:**\n",
        "* Yalnız bu **len() fonksiyonunu** sayıların uzunluğunu ölçmek için kullanamıyoruz:"
      ],
      "metadata": {
        "id": "BsFfd0qilLfS"
      }
    },
    {
      "cell_type": "code",
      "source": [
        "kelime = \"muvaffakiyet\"\n",
        "len(kelime)"
      ],
      "metadata": {
        "colab": {
          "base_uri": "https://localhost:8080/"
        },
        "id": "vsrEx2cylMHO",
        "outputId": "caff58f2-a5ab-4fb4-be27-d0e21e2ca3ce"
      },
      "execution_count": null,
      "outputs": [
        {
          "output_type": "execute_result",
          "data": {
            "text/plain": [
              "12"
            ]
          },
          "metadata": {},
          "execution_count": 61
        }
      ]
    },
    {
      "cell_type": "code",
      "source": [
        "len(123456)"
      ],
      "metadata": {
        "colab": {
          "base_uri": "https://localhost:8080/",
          "height": 165
        },
        "id": "McfSyQVXlQyP",
        "outputId": "17ea5f57-8d5a-4762-d34b-c8da806ec4c8"
      },
      "execution_count": null,
      "outputs": [
        {
          "output_type": "error",
          "ename": "TypeError",
          "evalue": "ignored",
          "traceback": [
            "\u001b[0;31m---------------------------------------------------------------------------\u001b[0m",
            "\u001b[0;31mTypeError\u001b[0m                                 Traceback (most recent call last)",
            "\u001b[0;32m<ipython-input-62-e3f68843ab19>\u001b[0m in \u001b[0;36m<module>\u001b[0;34m\u001b[0m\n\u001b[0;32m----> 1\u001b[0;31m \u001b[0mlen\u001b[0m\u001b[0;34m(\u001b[0m\u001b[0;36m123456\u001b[0m\u001b[0;34m)\u001b[0m\u001b[0;34m\u001b[0m\u001b[0;34m\u001b[0m\u001b[0m\n\u001b[0m",
            "\u001b[0;31mTypeError\u001b[0m: object of type 'int' has no len()"
          ]
        }
      ]
    },
    {
      "cell_type": "markdown",
      "source": [
        "<a id=\"7\"></a>\n",
        "## Etkileşimli Kabuğun Hafızası\n",
        "\n",
        "* Etkileşimli kabukta _ adlı işaret (alt çizgi işareti), yapılan son işlemin veya girilen son öğenin değerini tutma işlevi görür. \n",
        "* Yani:"
      ],
      "metadata": {
        "id": "fMLFs5EdlY3z"
      }
    },
    {
      "cell_type": "code",
      "source": [
        "2345 + 54355"
      ],
      "metadata": {
        "colab": {
          "base_uri": "https://localhost:8080/"
        },
        "id": "SAsNx93RlTiz",
        "outputId": "804f5592-8368-4397-e738-f0920642c50c"
      },
      "execution_count": null,
      "outputs": [
        {
          "output_type": "execute_result",
          "data": {
            "text/plain": [
              "56700"
            ]
          },
          "metadata": {},
          "execution_count": 63
        }
      ]
    },
    {
      "cell_type": "code",
      "source": [
        "_ # Eğer bu işlemin ardından _ komutunu verirsek şöyle bir çıktı alırız:"
      ],
      "metadata": {
        "colab": {
          "base_uri": "https://localhost:8080/"
        },
        "id": "22SgkNTiledC",
        "outputId": "2985cb71-a2b6-493c-f952-bfbc6b2cbe96"
      },
      "execution_count": null,
      "outputs": [
        {
          "output_type": "execute_result",
          "data": {
            "text/plain": [
              "56700"
            ]
          },
          "metadata": {},
          "execution_count": 64
        }
      ]
    },
    {
      "cell_type": "code",
      "source": [
        "_ + 15"
      ],
      "metadata": {
        "colab": {
          "base_uri": "https://localhost:8080/"
        },
        "id": "N7moTHjilhjB",
        "outputId": "c9f6354c-0892-42ec-8a25-8f99ff0bf466"
      },
      "execution_count": null,
      "outputs": [
        {
          "output_type": "execute_result",
          "data": {
            "text/plain": [
              "56715"
            ]
          },
          "metadata": {},
          "execution_count": 65
        }
      ]
    },
    {
      "cell_type": "markdown",
      "source": [
        "<a id=\"8\"></a>\n",
        "## print() Fonksiyonu\n",
        "\n",
        "* **print()** fonksiyonunun görevi ekrana çıktı vermemizi sağlamaktır.\n",
        "* **print()** de tıpkı daha önce gördüğümüz **type()**, **len()** ve **pow()** gibi bir fonksiyondur. Fonksiyonları ilerde daha ayrıntılı bir şekilde inceleyeceğimizi söylemiştik hatırlarsanız. O yüzden fonksiyon kelimesine takılarak, burada anlattığımız şeylerin kafanızı karıştırmasına, moralinizi bozmasına izin vermeyin."
      ],
      "metadata": {
        "id": "I40uhl7klqoz"
      }
    },
    {
      "cell_type": "code",
      "source": [
        "print(\"ptyhon programlama dili\")"
      ],
      "metadata": {
        "colab": {
          "base_uri": "https://localhost:8080/"
        },
        "id": "qh0YFiSHlk8i",
        "outputId": "59f08bf1-833b-4797-b47d-54b8334cf73b"
      },
      "execution_count": null,
      "outputs": [
        {
          "output_type": "stream",
          "name": "stdout",
          "text": [
            "ptyhon programlama dili\n"
          ]
        }
      ]
    },
    {
      "cell_type": "code",
      "source": [
        "dil = \"ptyhon programlama dili\""
      ],
      "metadata": {
        "id": "dkx-AE42luaE"
      },
      "execution_count": null,
      "outputs": []
    },
    {
      "cell_type": "code",
      "source": [
        "print(dil)"
      ],
      "metadata": {
        "colab": {
          "base_uri": "https://localhost:8080/"
        },
        "id": "KB-LQGOFlwdZ",
        "outputId": "a85ce081-9efd-4372-ab9a-4eb3a3c18d52"
      },
      "execution_count": null,
      "outputs": [
        {
          "output_type": "stream",
          "name": "stdout",
          "text": [
            "ptyhon programlama dili\n"
          ]
        }
      ]
    },
    {
      "cell_type": "markdown",
      "source": [
        "* **Gördüğünüz gibi, print() fonksiyonunu şöyle kullanıyoruz:**\n",
        "* **Burada print() bir fonksiyon,** \n",
        "* **“Aramak istediğiniz kelimeyi yazın:” adlı karakter dizisi ise bu fonksiyonun parametresidir.**\n",
        "* **Daha önce len() adlı başka bir fonksiyon daha öğrenmiştik hatırlarsanız. Onu da şöyle kullanıyorduk:**"
      ],
      "metadata": {
        "id": "ZWmoUyIpl54t"
      }
    },
    {
      "cell_type": "code",
      "source": [
        "print(\"Aramak istediğiniz kelimeyi yazın: \")"
      ],
      "metadata": {
        "colab": {
          "base_uri": "https://localhost:8080/"
        },
        "id": "7Y-byUi2l2ti",
        "outputId": "60183cb7-a6a1-4d43-a863-72c6453e3be1"
      },
      "execution_count": null,
      "outputs": [
        {
          "output_type": "stream",
          "name": "stdout",
          "text": [
            "Aramak istediğiniz kelimeyi yazın: \n"
          ]
        }
      ]
    },
    {
      "cell_type": "code",
      "source": [
        "len(\"elma\")"
      ],
      "metadata": {
        "colab": {
          "base_uri": "https://localhost:8080/"
        },
        "id": "2XwHnlo4l-6I",
        "outputId": "11900e1c-334d-45d2-c022-a544afca5cda"
      },
      "execution_count": null,
      "outputs": [
        {
          "output_type": "execute_result",
          "data": {
            "text/plain": [
              "4"
            ]
          },
          "metadata": {},
          "execution_count": 70
        }
      ]
    },
    {
      "cell_type": "markdown",
      "source": [
        "* **Burada da len() bir fonksiyon, “elma” adlı karakter dizisi ise bu fonksiyonun parametresidir.** \n",
        "* **Aslında biçim olarak print() ve len() fonksiyonlarının birbirinden hiçbir farkı olmadığını görüyorsunuz.**\n",
        "* **Daha önce söylediğimiz ve bu örneklerden de anladığımız gibi, bir fonksiyonun parantezleri içinde belirtilen öğelere parametre adı veriliyor.** \n",
        "* **Mesela aşağıdaki örnekte print() fonksiyonunu tek bir parametre ile kullanıyoruz:**"
      ],
      "metadata": {
        "id": "EWYZG9O9mEcw"
      }
    },
    {
      "cell_type": "code",
      "source": [
        "print('En az 8 haneli bir parola belirleyin.')"
      ],
      "metadata": {
        "colab": {
          "base_uri": "https://localhost:8080/"
        },
        "id": "VqO_tC89mBzc",
        "outputId": "a41c37da-09fd-423c-9294-f7916cd60551"
      },
      "execution_count": null,
      "outputs": [
        {
          "output_type": "stream",
          "name": "stdout",
          "text": [
            "En az 8 haneli bir parola belirleyin.\n"
          ]
        }
      ]
    },
    {
      "cell_type": "code",
      "source": [
        "print('Fırat', 'Özgül') # print() fonksiyonu, tıpkı pow() fonksiyonu gibi, birden fazla parametre alabilir:"
      ],
      "metadata": {
        "colab": {
          "base_uri": "https://localhost:8080/"
        },
        "id": "8f8c1-enmIAh",
        "outputId": "0720ebd8-038a-4ea1-fcb0-095b06e8b800"
      },
      "execution_count": null,
      "outputs": [
        {
          "output_type": "stream",
          "name": "stdout",
          "text": [
            "Fırat Özgül\n"
          ]
        }
      ]
    },
    {
      "cell_type": "markdown",
      "source": [
        "## 1. sep:"
      ],
      "metadata": {
        "id": "ehLzehdnmPPh"
      }
    },
    {
      "cell_type": "code",
      "source": [
        "print(\"Mehmet\", \"Öz\", \"İstanbul\", \"Çamlıca\", 156, \"/\", 45)\n",
        "\n",
        "# print() fonksiyonu içinde istediğimiz sayıda karakter dizisi ve/veya sayı değerli parametre kullanabiliriz.\n",
        "# Fonksiyonların bir de daha özel görünümlü parametreleri vardır. \n",
        "# Mesela print() fonksiyonunun sep adlı özel bir parametresi bulunur.\n",
        "# Bu parametre print() fonksiyonunda görünmese bile her zaman oradadır. \n",
        "# Yani diyelim ki şöyle bir kod yazdık:"
      ],
      "metadata": {
        "colab": {
          "base_uri": "https://localhost:8080/"
        },
        "id": "2qz_7N06mK6R",
        "outputId": "90f22e32-ae75-4602-fd45-256108132243"
      },
      "execution_count": null,
      "outputs": [
        {
          "output_type": "stream",
          "name": "stdout",
          "text": [
            "Mehmet Öz İstanbul Çamlıca 156 / 45\n"
          ]
        }
      ]
    },
    {
      "cell_type": "code",
      "source": [
        "print(\"http://\", \"www.\", \"google.\", \"com\")"
      ],
      "metadata": {
        "colab": {
          "base_uri": "https://localhost:8080/"
        },
        "id": "pcgKSblrmSfl",
        "outputId": "ca5fee86-c7b3-4269-e93f-a3151b5d152b"
      },
      "execution_count": null,
      "outputs": [
        {
          "output_type": "stream",
          "name": "stdout",
          "text": [
            "http:// www. google. com\n"
          ]
        }
      ]
    },
    {
      "cell_type": "code",
      "source": [
        "print(\"http://\", \"www.\", \"google.\", \"com\", sep=\" \")"
      ],
      "metadata": {
        "colab": {
          "base_uri": "https://localhost:8080/"
        },
        "id": "pnWYrBs6mU_h",
        "outputId": "b3caf86b-cfab-4d75-e320-bd920a06b3a4"
      },
      "execution_count": null,
      "outputs": [
        {
          "output_type": "stream",
          "name": "stdout",
          "text": [
            "http:// www. google. com\n"
          ]
        }
      ]
    },
    {
      "cell_type": "code",
      "source": [
        "print(\"http://\", \"www.\", \"google.\", \"com\", sep=\"\")\n",
        "# Gördüğünüz gibi, karakter dizilerini başarıyla birleştirip, geçerli bir internet adresi elde ettik."
      ],
      "metadata": {
        "colab": {
          "base_uri": "https://localhost:8080/"
        },
        "id": "fF190aDHmXzv",
        "outputId": "6b2d7388-c9f3-41ba-d4de-795596a696da"
      },
      "execution_count": null,
      "outputs": [
        {
          "output_type": "stream",
          "name": "stdout",
          "text": [
            "http://www.google.com\n"
          ]
        }
      ]
    },
    {
      "cell_type": "code",
      "source": [
        "print(\"http://\", \"www.\", \"google.\", \"com\", sep=\"+\")"
      ],
      "metadata": {
        "colab": {
          "base_uri": "https://localhost:8080/"
        },
        "id": "FttH2Uzmmahz",
        "outputId": "e7b39c8a-01f7-4a6a-ee2e-6b79ae780d8c"
      },
      "execution_count": null,
      "outputs": [
        {
          "output_type": "stream",
          "name": "stdout",
          "text": [
            "http://+www.+google.+com\n"
          ]
        }
      ]
    },
    {
      "cell_type": "code",
      "source": [
        "print(\"T\", \"C\", sep=\".\")"
      ],
      "metadata": {
        "colab": {
          "base_uri": "https://localhost:8080/"
        },
        "id": "h2ZQ6N65mhUJ",
        "outputId": "db5cf04c-7c9d-479b-c6f5-3782187dd3bb"
      },
      "execution_count": null,
      "outputs": [
        {
          "output_type": "stream",
          "name": "stdout",
          "text": [
            "T.C\n"
          ]
        }
      ]
    },
    {
      "cell_type": "code",
      "source": [
        "print(\"Adana\", \"Mersin\", sep=\" - \")"
      ],
      "metadata": {
        "colab": {
          "base_uri": "https://localhost:8080/"
        },
        "id": "DHalo20Nmkup",
        "outputId": "80e6475f-4332-4394-d225-e7d62f716ffd"
      },
      "execution_count": null,
      "outputs": [
        {
          "output_type": "stream",
          "name": "stdout",
          "text": [
            "Adana - Mersin\n"
          ]
        }
      ]
    },
    {
      "cell_type": "code",
      "source": [
        "print(\"Adana\", \"Mersin\", \"-\")\n",
        "# Eğer burada sep parametresinin ismini belirtmeden, doğrudan parametrenin değerini yazarsak,\n",
        "# bu değerin öteki parametrelerden hiçbir farkı kalmayacaktır:"
      ],
      "metadata": {
        "colab": {
          "base_uri": "https://localhost:8080/"
        },
        "id": "-TQgPIsqmn4T",
        "outputId": "14572986-d2bb-4242-d220-166b5bc3421c"
      },
      "execution_count": null,
      "outputs": [
        {
          "output_type": "stream",
          "name": "stdout",
          "text": [
            "Adana Mersin -\n"
          ]
        }
      ]
    },
    {
      "cell_type": "code",
      "source": [
        "print(\"bir\", \"iki\", \"üç\", \"dört\", \"ondört\", sep=\"mumdur\")"
      ],
      "metadata": {
        "colab": {
          "base_uri": "https://localhost:8080/"
        },
        "id": "urHJK71OmsQp",
        "outputId": "7e1935b8-bc4f-4b5c-b0c3-c2076af0f9b3"
      },
      "execution_count": null,
      "outputs": [
        {
          "output_type": "stream",
          "name": "stdout",
          "text": [
            "birmumdurikimumdurüçmumdurdörtmumdurondört\n"
          ]
        }
      ]
    },
    {
      "cell_type": "markdown",
      "source": [
        "* Burada bir terslik olduğu açık! Karakter dizileri birbirlerine sıkışık düzende birleştirildi.\n",
        "* Bunların arasında birer boşluk olsa tabii daha iyi olurdu.\n",
        "* Ancak biliyorsunuz sep parametresinin öntanımlı değerini silip, yerine “mumdur” değerini yerleştirdiğimiz için, Python’ın otomatik olarak yerleştirdiği boşluk karakteri kayboldu.Ama eğer istersek o boşluk karakterlerini kendimiz de ayarlayabiliriz:"
      ],
      "metadata": {
        "id": "Slk0GloVmzqF"
      }
    },
    {
      "cell_type": "code",
      "source": [
        "print(\"bir\", \"iki\", \"üç\", \"dört\", \"ondört\", sep=\" mumdur \")"
      ],
      "metadata": {
        "colab": {
          "base_uri": "https://localhost:8080/"
        },
        "id": "BV9K9t0WmvJd",
        "outputId": "a30669b3-54ca-472f-a4d3-14c1016a4be5"
      },
      "execution_count": null,
      "outputs": [
        {
          "output_type": "stream",
          "name": "stdout",
          "text": [
            "bir mumdur iki mumdur üç mumdur dört mumdur ondört\n"
          ]
        }
      ]
    },
    {
      "cell_type": "markdown",
      "source": [
        "## 2. end\n",
        "\n",
        "* Bir önceki bölümde şöyle bir laf etmiştik:\n",
        "* print() fonksiyonun sep adlı özel bir parametresi bulunur. Bu parametre print() fonksiyonunda görünmese bile her zaman oradadır.\n",
        "* Aynı bu şekilde, print() fonksiyonunun end adlı özel bir parametresi daha bulunur. Tıpkı sep parametresi gibi, end parametresi de print() fonksiyonunda görünmese bile her zaman oradadır.\n",
        "* Bildiğiniz gibi, sep parametresi print() fonksiyonuna verilen parametreler birleştirilirken araya hangi karakterin gireceğini belirliyordu. end parametresi ise bu parametrelerin sonuna neyin geleceğini belirler."
      ],
      "metadata": {
        "id": "Wyc3fYL-m7ap"
      }
    },
    {
      "cell_type": "code",
      "source": [
        "print(\"Pardus ve Ubuntu birer GNU/Linux dağıtımıdır.\")"
      ],
      "metadata": {
        "colab": {
          "base_uri": "https://localhost:8080/"
        },
        "id": "CcseYP6em3rk",
        "outputId": "df746f6b-0a4d-43e9-b54d-cc6db537cf6f"
      },
      "execution_count": null,
      "outputs": [
        {
          "output_type": "stream",
          "name": "stdout",
          "text": [
            "Pardus ve Ubuntu birer GNU/Linux dağıtımıdır.\n"
          ]
        }
      ]
    },
    {
      "cell_type": "code",
      "source": [
        "print(\"Pardus\\nUbuntu\")"
      ],
      "metadata": {
        "colab": {
          "base_uri": "https://localhost:8080/"
        },
        "id": "tH9FMQzonEwV",
        "outputId": "70a80f2e-85a6-41c5-d7ce-06d5c41ce797"
      },
      "execution_count": null,
      "outputs": [
        {
          "output_type": "stream",
          "name": "stdout",
          "text": [
            "Pardus\n",
            "Ubuntu\n"
          ]
        }
      ]
    },
    {
      "cell_type": "code",
      "source": [
        "print(\"birinci satır\\nikinci satır\\nüçüncü satır\")"
      ],
      "metadata": {
        "colab": {
          "base_uri": "https://localhost:8080/"
        },
        "id": "kmisy00cnHbY",
        "outputId": "b8d30728-b6fd-47a2-de60-2405e8bde1ac"
      },
      "execution_count": null,
      "outputs": [
        {
          "output_type": "stream",
          "name": "stdout",
          "text": [
            "birinci satır\n",
            "ikinci satır\n",
            "üçüncü satır\n"
          ]
        }
      ]
    },
    {
      "cell_type": "code",
      "source": [
        "print(\"birinci satır\", \"ikinci satır\", \"üçüncü satır\", sep=\"\\n\")"
      ],
      "metadata": {
        "colab": {
          "base_uri": "https://localhost:8080/"
        },
        "id": "_RQJ7Q2tnKe2",
        "outputId": "a86879a7-aefc-4020-85ff-608ae2e52d02"
      },
      "execution_count": null,
      "outputs": [
        {
          "output_type": "stream",
          "name": "stdout",
          "text": [
            "birinci satır\n",
            "ikinci satır\n",
            "üçüncü satır\n"
          ]
        }
      ]
    },
    {
      "cell_type": "code",
      "source": [
        "print(\"Bugün günlerden Salı\")"
      ],
      "metadata": {
        "colab": {
          "base_uri": "https://localhost:8080/"
        },
        "id": "z8JcvKWdnPr3",
        "outputId": "b443be55-ca57-401b-ad73-c5d84f90c31b"
      },
      "execution_count": null,
      "outputs": [
        {
          "output_type": "stream",
          "name": "stdout",
          "text": [
            "Bugün günlerden Salı\n"
          ]
        }
      ]
    },
    {
      "cell_type": "code",
      "source": [
        "print(\"Bugün günlerden Salı\", end=\".\")"
      ],
      "metadata": {
        "colab": {
          "base_uri": "https://localhost:8080/"
        },
        "id": "rvxVXT-dnWBS",
        "outputId": "fb677171-5735-4154-d076-fddc036e72a2"
      },
      "execution_count": null,
      "outputs": [
        {
          "output_type": "stream",
          "name": "stdout",
          "text": [
            "Bugün günlerden Salı."
          ]
        }
      ]
    },
    {
      "cell_type": "code",
      "source": [
        "print(\"bir\", \"iki\", \"üç\", \"dört\", \"on dört\", sep=\" mumdur \", end=\" mumdur\\n\")"
      ],
      "metadata": {
        "colab": {
          "base_uri": "https://localhost:8080/"
        },
        "id": "dmQO4rGEnY61",
        "outputId": "f8714abf-84da-4def-decf-6392eb71a593"
      },
      "execution_count": null,
      "outputs": [
        {
          "output_type": "stream",
          "name": "stdout",
          "text": [
            "bir mumdur iki mumdur üç mumdur dört mumdur on dört mumdur\n"
          ]
        }
      ]
    },
    {
      "cell_type": "markdown",
      "source": [
        "## 3. file\n",
        "* print() fonksiyonunun sep ve end dışında üçüncü bir özel parametresi daha bulunur.\n",
        "* Bu parametrenin adı file’dır. Görevi ise, print() fonksiyonuna verilen karakter dizisi ve/veya sayıların, yani parametrelerin nereye yazılacağını belirtmektir."
      ],
      "metadata": {
        "id": "6LEIl9l1nsS_"
      }
    },
    {
      "cell_type": "code",
      "source": [
        "f = open(\"kişisel_bilgiler.txt\", \"w\")"
      ],
      "metadata": {
        "id": "OSsP7OJ2nbtS"
      },
      "execution_count": null,
      "outputs": []
    },
    {
      "cell_type": "code",
      "source": [
        "print(\"Fırat Özgül\", file=f)\n",
        "print(\"Adana\", file=f)\n",
        "print(\"Ubuntu\", file=f)"
      ],
      "metadata": {
        "id": "xYCdOFbFnv_r"
      },
      "execution_count": null,
      "outputs": []
    },
    {
      "cell_type": "code",
      "source": [
        "f.close()"
      ],
      "metadata": {
        "id": "JB6DFxqdnyF-"
      },
      "execution_count": null,
      "outputs": []
    },
    {
      "cell_type": "markdown",
      "source": [
        "## Birkaç Pratik Bilgi\n",
        "\n",
        "L.i.n.u.x \n",
        "* yukaarıdaki çıktıyı nasıl elde ederiz?"
      ],
      "metadata": {
        "id": "gWtphTB5n56E"
      }
    },
    {
      "cell_type": "code",
      "source": [
        "print(\"L\",\"i\",\"n\",\"u\",\"x\", sep=\".\")"
      ],
      "metadata": {
        "colab": {
          "base_uri": "https://localhost:8080/"
        },
        "id": "rVqbC6Xjn09-",
        "outputId": "3ddbcb4b-c69a-41bd-c024-c26e25e34ed8"
      },
      "execution_count": null,
      "outputs": [
        {
          "output_type": "stream",
          "name": "stdout",
          "text": [
            "L.i.n.u.x\n"
          ]
        }
      ]
    },
    {
      "cell_type": "code",
      "source": [
        "print(*\"Galatasaray\")"
      ],
      "metadata": {
        "colab": {
          "base_uri": "https://localhost:8080/"
        },
        "id": "Z5dU5D3IoBmh",
        "outputId": "a1934adf-250e-4024-c5a2-1fcd742b396b"
      },
      "execution_count": null,
      "outputs": [
        {
          "output_type": "stream",
          "name": "stdout",
          "text": [
            "G a l a t a s a r a y\n"
          ]
        }
      ]
    },
    {
      "cell_type": "code",
      "source": [
        "print(\"G\",\"a\",\"l\",\"a\",\"t\",\"a\",\"s\",\"a\",\"r\",\"a\",\"y\", sep=\" \")"
      ],
      "metadata": {
        "colab": {
          "base_uri": "https://localhost:8080/"
        },
        "id": "o0hh1ZjaoEqM",
        "outputId": "6bb05fed-db87-4da5-d9f8-7ec629d75f1b"
      },
      "execution_count": null,
      "outputs": [
        {
          "output_type": "stream",
          "name": "stdout",
          "text": [
            "G a l a t a s a r a y\n"
          ]
        }
      ]
    },
    {
      "cell_type": "code",
      "source": [
        "print(*\"TBMM\", sep=\".\")"
      ],
      "metadata": {
        "colab": {
          "base_uri": "https://localhost:8080/"
        },
        "id": "Vhq75VTIoIdU",
        "outputId": "aa67ad43-b4e9-406b-c513-101684a70f61"
      },
      "execution_count": null,
      "outputs": [
        {
          "output_type": "stream",
          "name": "stdout",
          "text": [
            "T.B.M.M\n"
          ]
        }
      ]
    },
    {
      "cell_type": "code",
      "source": [
        "print('İstanbul\\'un 5 günlük hava durumu tahmini')"
      ],
      "metadata": {
        "colab": {
          "base_uri": "https://localhost:8080/"
        },
        "id": "Z-aTP5RKoMd3",
        "outputId": "5402fc2f-32e9-4a52-8084-f5684d7a7016"
      },
      "execution_count": null,
      "outputs": [
        {
          "output_type": "stream",
          "name": "stdout",
          "text": [
            "İstanbul'un 5 günlük hava durumu tahmini\n"
          ]
        }
      ]
    },
    {
      "cell_type": "code",
      "source": [
        "print('yarın Ali\\'nin evine gideceğim')"
      ],
      "metadata": {
        "colab": {
          "base_uri": "https://localhost:8080/"
        },
        "id": "0QRkyN2zoQJo",
        "outputId": "25403ec5-4aac-43ea-a5ba-889d50a2188c"
      },
      "execution_count": null,
      "outputs": [
        {
          "output_type": "stream",
          "name": "stdout",
          "text": [
            "yarın Ali'nin evine gideceğim\n"
          ]
        }
      ]
    },
    {
      "cell_type": "code",
      "source": [
        "print(\"tarkan'a sor\")"
      ],
      "metadata": {
        "colab": {
          "base_uri": "https://localhost:8080/"
        },
        "id": "50Tjz4RSoSz6",
        "outputId": "4474472e-ccac-475c-c681-87028f0e29ea"
      },
      "execution_count": null,
      "outputs": [
        {
          "output_type": "stream",
          "name": "stdout",
          "text": [
            "tarkan'a sor\n"
          ]
        }
      ]
    },
    {
      "cell_type": "code",
      "source": [
        "print(\"Python programlama dilinin adı \\\"piton\\\" yılanından gelmez\")"
      ],
      "metadata": {
        "colab": {
          "base_uri": "https://localhost:8080/"
        },
        "id": "eVTv6yeBoVbF",
        "outputId": "1fbdd103-4a06-46b6-9f85-13f4a71729a4"
      },
      "execution_count": null,
      "outputs": [
        {
          "output_type": "stream",
          "name": "stdout",
          "text": [
            "Python programlama dilinin adı \"piton\" yılanından gelmez\n"
          ]
        }
      ]
    },
    {
      "cell_type": "code",
      "source": [
        "print('Amerika\\'nın \\'Florida\\' eyaleti güzeldir.')"
      ],
      "metadata": {
        "id": "xjycKuCSoX5i"
      },
      "execution_count": null,
      "outputs": []
    },
    {
      "cell_type": "code",
      "source": [
        "print(\"Python 1990 yılında Guido Van Rossum \\\n",
        "tarafından geliştirilmeye başlanmış, \\\n",
        "oldukça güçlü ve yetenekli bir programlama dilidir.\")"
      ],
      "metadata": {
        "colab": {
          "base_uri": "https://localhost:8080/"
        },
        "id": "6i2taApfobiM",
        "outputId": "02806041-a554-4268-eebb-73a9ed9f30ea"
      },
      "execution_count": null,
      "outputs": [
        {
          "output_type": "stream",
          "name": "stdout",
          "text": [
            "Python 1990 yılında Guido Van Rossum tarafından geliştirilmeye başlanmış, oldukça güçlü ve yetenekli bir programlama dilidir.\n"
          ]
        }
      ]
    },
    {
      "cell_type": "markdown",
      "source": [
        "<a id=\"9\"></a>\n",
        "## Kaçış Dizileri\n",
        "\n",
        "\n",
        "## 1. Satır Başı (\\n)\n",
        "* **New Line**"
      ],
      "metadata": {
        "id": "9ETjzmWool_v"
      }
    },
    {
      "cell_type": "code",
      "source": [
        "print(\"Galatasaray, \\nFenerbahçe, \\nBeşiktaş\")"
      ],
      "metadata": {
        "colab": {
          "base_uri": "https://localhost:8080/"
        },
        "id": "sQzeZEfOobbo",
        "outputId": "35eba917-2b00-4861-85eb-48b29e3df48d"
      },
      "execution_count": null,
      "outputs": [
        {
          "output_type": "stream",
          "name": "stdout",
          "text": [
            "Galatasaray, \n",
            "Fenerbahçe, \n",
            "Beşiktaş\n"
          ]
        }
      ]
    },
    {
      "cell_type": "code",
      "source": [
        "başlık = \"Türkiye'de Özgür Yazılımın Geçmişi\"\n",
        "print(başlık, \"\\n\", \"_\"*len(başlık),sep=\"\")"
      ],
      "metadata": {
        "colab": {
          "base_uri": "https://localhost:8080/"
        },
        "id": "s1YN2Xmlot_I",
        "outputId": "b02d5856-5072-4465-f9a2-eb4a1c702f68"
      },
      "execution_count": null,
      "outputs": [
        {
          "output_type": "stream",
          "name": "stdout",
          "text": [
            "Türkiye'de Özgür Yazılımın Geçmişi\n",
            "__________________________________\n"
          ]
        }
      ]
    },
    {
      "cell_type": "code",
      "source": [
        "şampiyon = \"Türkiye'nin en büyüğü Galatasaraydır.\"\n",
        "\n",
        "print(şampiyon, \"\\n\", \"=\"*len(şampiyon), sep=\"\")"
      ],
      "metadata": {
        "colab": {
          "base_uri": "https://localhost:8080/"
        },
        "id": "wr-Hnxf_oyFR",
        "outputId": "fbbdcbbf-ce66-4954-d4eb-d02724b34032"
      },
      "execution_count": null,
      "outputs": [
        {
          "output_type": "stream",
          "name": "stdout",
          "text": [
            "Türkiye'nin en büyüğü Galatasaraydır.\n",
            "=====================================\n"
          ]
        }
      ]
    },
    {
      "cell_type": "code",
      "source": [
        "matematik = \"Trigonometri bir matematik konusudur.\"\n",
        "print(matematik, \"\\n\",\"_\"*len(matematik),sep=\"\")"
      ],
      "metadata": {
        "colab": {
          "base_uri": "https://localhost:8080/"
        },
        "id": "jMZxXblPo3eD",
        "outputId": "ba8338ed-4162-441c-8b0f-e16e90ed6bb0"
      },
      "execution_count": null,
      "outputs": [
        {
          "output_type": "stream",
          "name": "stdout",
          "text": [
            "Trigonometri bir matematik konusudur.\n",
            "_____________________________________\n"
          ]
        }
      ]
    },
    {
      "cell_type": "markdown",
      "source": [
        "\n",
        "## 2. Sekme (\\t)\n",
        "* **Tab (sekme) tuşu**"
      ],
      "metadata": {
        "id": "EjW8Iyg6pAIH"
      }
    },
    {
      "cell_type": "code",
      "source": [
        "print(\"abc\\tdef\")\n",
        "# Burada \\t adlı kaçış dizisi, “abc” ifadesinden sonra sanki Tab (sekme) \n",
        "# tuşuna basılmış gibi bir etki oluşturarak “def” ifadesini sağa doğru itiyor."
      ],
      "metadata": {
        "colab": {
          "base_uri": "https://localhost:8080/"
        },
        "id": "4UyGhrXoo9ZI",
        "outputId": "e8061753-6345-4154-dbd6-9077eec67b74"
      },
      "execution_count": null,
      "outputs": [
        {
          "output_type": "stream",
          "name": "stdout",
          "text": [
            "abc\tdef\n"
          ]
        }
      ]
    },
    {
      "cell_type": "code",
      "source": [
        "print(\"bir\", \"iki\", \"üç\", sep=\"\\t\")"
      ],
      "metadata": {
        "colab": {
          "base_uri": "https://localhost:8080/"
        },
        "id": "V3Si2mxjpDVf",
        "outputId": "3b377150-a8d0-4f7f-dedd-f647373ae11c"
      },
      "execution_count": null,
      "outputs": [
        {
          "output_type": "stream",
          "name": "stdout",
          "text": [
            "bir\tiki\tüç\n"
          ]
        }
      ]
    },
    {
      "cell_type": "code",
      "source": [
        "print(*\"123456789\", sep=\"\\t\")"
      ],
      "metadata": {
        "colab": {
          "base_uri": "https://localhost:8080/"
        },
        "id": "QCgjB3Y1pGID",
        "outputId": "f58016fc-b675-4bb1-b45b-6f505a8a13cb"
      },
      "execution_count": null,
      "outputs": [
        {
          "output_type": "stream",
          "name": "stdout",
          "text": [
            "1\t2\t3\t4\t5\t6\t7\t8\t9\n"
          ]
        }
      ]
    },
    {
      "cell_type": "code",
      "source": [
        "## 3. Zil Sesi (\\a)"
      ],
      "metadata": {
        "id": "P-3sYjDApIoK"
      },
      "execution_count": null,
      "outputs": []
    },
    {
      "cell_type": "code",
      "source": [
        "print(\"\\a\" * 10)"
      ],
      "metadata": {
        "colab": {
          "base_uri": "https://localhost:8080/"
        },
        "id": "Ao1wTIg6pMJg",
        "outputId": "5b93fb0f-e170-40da-c2f3-78e9dd74890b"
      },
      "execution_count": null,
      "outputs": [
        {
          "output_type": "stream",
          "name": "stdout",
          "text": [
            "\u0007\u0007\u0007\u0007\u0007\u0007\u0007\u0007\u0007\u0007\n"
          ]
        }
      ]
    },
    {
      "cell_type": "markdown",
      "source": [
        "## 4. Aynı Satır Başı (\\r)\n",
        "* Bu kaçış dizisi, bir karakter dizisinde aynı satırın en başına dönülmesini sağlar. Bu kaçış dizisinin işlevini tanımına bakarak anlamak biraz zor olabilir. O yüzden dilerseniz bu kaçış dizisinin ne işe yaradığını bir örnek üzerinde göstermeye çalışalım:"
      ],
      "metadata": {
        "id": "2PK7P6x-pSkN"
      }
    },
    {
      "cell_type": "code",
      "source": [
        "print(\"Merhaba\\rZalim Dünya!\")"
      ],
      "metadata": {
        "colab": {
          "base_uri": "https://localhost:8080/"
        },
        "id": "WtaO0WcypOl5",
        "outputId": "fb857547-df1a-4c8a-cefc-a3b9d05ef9c0"
      },
      "execution_count": null,
      "outputs": [
        {
          "output_type": "stream",
          "name": "stdout",
          "text": [
            "Merhaba\rZalim Dünya!\n"
          ]
        }
      ]
    },
    {
      "cell_type": "markdown",
      "source": [
        "* Burada olan şey şu: Normal şartlar altında, print() fonksiyonu içine yazdığımız bir karakter dizisindeki bütün karakterler soldan sağa doğru tek tek ekrana yazdırılır:"
      ],
      "metadata": {
        "id": "eiTTw8QrpZMB"
      }
    },
    {
      "cell_type": "code",
      "source": [
        "print(\"Merhaba Zalim Dünya!\")"
      ],
      "metadata": {
        "colab": {
          "base_uri": "https://localhost:8080/"
        },
        "id": "4kArl6c_pZBS",
        "outputId": "27d2b738-a6b1-4fa6-fbb6-4b4141a7bac8"
      },
      "execution_count": null,
      "outputs": [
        {
          "output_type": "stream",
          "name": "stdout",
          "text": [
            "Merhaba Zalim Dünya!\n"
          ]
        }
      ]
    },
    {
      "cell_type": "code",
      "source": [
        "print(\"Merhaba \\rDünya\")"
      ],
      "metadata": {
        "colab": {
          "base_uri": "https://localhost:8080/"
        },
        "id": "M0ZnBWfnpV2U",
        "outputId": "96803bcb-bfc0-4994-8c23-05035b1fedfc"
      },
      "execution_count": null,
      "outputs": [
        {
          "output_type": "stream",
          "name": "stdout",
          "text": [
            "Merhaba \rDünya\n"
          ]
        }
      ]
    },
    {
      "cell_type": "markdown",
      "source": [
        "* **Burada, “Merhaba” karakter dizisi ekrana yazdırıldıktan sonra \\r kaçış dizisinin etkisiyle satır başına dönülüyor ve bu kaçış dizisinden sonra gelen “Dünya” karakter dizisi “Merhaba” karakter dizisinin üzerine yazıyor.**\n",
        "\n",
        "\n",
        "* **Tabii “Dünya” karakter dizisi içinde 5 karakter, “Merhaba” karakter dizisi içinde ise 7 karakter olduğu için, “Merhaba” karakter dizisinin son iki karakteri (“ba”) dışarda kalıyor. Böylece ortaya “Dünyaba” gibi bir şey çıkıyor.**"
      ],
      "metadata": {
        "id": "_EhmGI6OpjM4"
      }
    },
    {
      "cell_type": "code",
      "source": [
        "print(\"cansın \\rAli\")"
      ],
      "metadata": {
        "colab": {
          "base_uri": "https://localhost:8080/"
        },
        "id": "u0XjxOz7pgIc",
        "outputId": "7910b4e1-787f-4fe2-c96a-178dec8db23b"
      },
      "execution_count": null,
      "outputs": [
        {
          "output_type": "stream",
          "name": "stdout",
          "text": [
            "cansın \rAli\n"
          ]
        }
      ]
    },
    {
      "cell_type": "markdown",
      "source": [
        "## 5. Düşey Sekme (\\v)\n",
        "\n",
        "* Eğer \\ işaretini ‘v’ harfiyle birlikte kullanırsak düşey sekme denen şeyi elde ederiz. Hemen bir örnek verelim:\n",
        "* Yalnız bu \\v adlı kaçış dizisi her işletim sisteminde çalışmayabilir. Dolayısıyla, birden fazla platform üzerinde çalışmak üzere tasarladığınız programlarınızda bu kaçış dizisini kullanmanızı önermem."
      ],
      "metadata": {
        "id": "NMv8mx0hpp8I"
      }
    },
    {
      "cell_type": "code",
      "source": [
        "print(\"düşey \\vsekme\")"
      ],
      "metadata": {
        "colab": {
          "base_uri": "https://localhost:8080/"
        },
        "id": "PBJ5epQapnio",
        "outputId": "b8262477-8bf8-419c-a48d-434f4d593d37"
      },
      "execution_count": null,
      "outputs": [
        {
          "output_type": "stream",
          "name": "stdout",
          "text": [
            "düşey \u000bsekme\n"
          ]
        }
      ]
    },
    {
      "cell_type": "markdown",
      "source": [
        "## 6. İmleç Kaydırma (\\b)\n",
        "* Bu kodu çalıştırdığınızda herhangi bir değişiklik görmeyeceksiniz. Ama aslında en sonda gördüğümüz \\b kaçış dizisi, imleci bir karakter sola kaydırdı. Dikkatlice bakın:"
      ],
      "metadata": {
        "id": "u-o5JTwvpyXv"
      }
    },
    {
      "cell_type": "code",
      "source": [
        "print(\"yahoo.com\\b\")"
      ],
      "metadata": {
        "colab": {
          "base_uri": "https://localhost:8080/"
        },
        "id": "Rt_x1zPXptT-",
        "outputId": "0c095136-68c8-49ce-e142-7c8ef53d0dde"
      },
      "execution_count": null,
      "outputs": [
        {
          "output_type": "stream",
          "name": "stdout",
          "text": [
            "yahoo.com\b\n"
          ]
        }
      ]
    },
    {
      "cell_type": "markdown",
      "source": [
        "* Gördüğünüz gibi, \\b kaçış dizisinin etkisiyle imleç bir karakter sola kaydığı için, ‘com’ kelimesinin son harfi silindi ve bunun yerine \\b kaçış dizisinden sonra gelen .uk karakterleri yerleştirildi. Dolayısıyla biz de şu çıktıyı aldık:"
      ],
      "metadata": {
        "id": "V0kG-iUAp6lx"
      }
    },
    {
      "cell_type": "code",
      "source": [
        "print(\"yahoo.com\\b.uk\")"
      ],
      "metadata": {
        "colab": {
          "base_uri": "https://localhost:8080/"
        },
        "id": "-lMj_tfSp1aD",
        "outputId": "2d96dbdb-59ea-460b-dafc-3c5d6aa4b7b9"
      },
      "execution_count": null,
      "outputs": [
        {
          "output_type": "stream",
          "name": "stdout",
          "text": [
            "yahoo.com\b.uk\n"
          ]
        }
      ]
    },
    {
      "cell_type": "code",
      "source": [
        "print('istihza', '.', 'com', sep='')"
      ],
      "metadata": {
        "colab": {
          "base_uri": "https://localhost:8080/"
        },
        "id": "CMJKhywjp-gu",
        "outputId": "93a8869b-0568-4462-94f0-463015b5dd78"
      },
      "execution_count": null,
      "outputs": [
        {
          "output_type": "stream",
          "name": "stdout",
          "text": [
            "istihza.com\n"
          ]
        }
      ]
    },
    {
      "cell_type": "code",
      "source": [
        "print('istihza','\\b.','\\bcom') \n",
        "# İşte aynı etkiyi \\b kaçış dizisini kullanarak da elde edebiliriz:"
      ],
      "metadata": {
        "colab": {
          "base_uri": "https://localhost:8080/"
        },
        "id": "jOogyf4RqBcu",
        "outputId": "630d2c3a-633f-4fa8-e66d-dd28f2cc95ad"
      },
      "execution_count": null,
      "outputs": [
        {
          "output_type": "stream",
          "name": "stdout",
          "text": [
            "istihza \b. \bcom\n"
          ]
        }
      ]
    },
    {
      "cell_type": "markdown",
      "source": [
        "<a id=\"10\"></a>\n",
        "## Kullanıcıdan Bilgi Almak"
      ],
      "metadata": {
        "id": "JayOioXwqIdJ"
      }
    },
    {
      "cell_type": "code",
      "source": [
        "isim = \"ali\"\n",
        "print(\"Merhaba\", isim, end = \"!\\n\")"
      ],
      "metadata": {
        "colab": {
          "base_uri": "https://localhost:8080/"
        },
        "id": "HUnBjG6YqJDB",
        "outputId": "8263e133-a5b7-4f81-feca-536d28f815b5"
      },
      "execution_count": null,
      "outputs": [
        {
          "output_type": "stream",
          "name": "stdout",
          "text": [
            "Merhaba ali!\n"
          ]
        }
      ]
    },
    {
      "cell_type": "markdown",
      "source": [
        "## A) input() Fonksiyonu\n",
        "* **input() da daha önce öğrendiğimiz type(), len() ve print() gibi bir fonksiyondur.**"
      ],
      "metadata": {
        "id": "2enDHKdpqPQ4"
      }
    },
    {
      "cell_type": "code",
      "source": [
        "kartvizit = \"\"\"\n",
        "İstihza Anonim Şirketi\n",
        "Fırat Özgül\n",
        "Tel: 0212 123 23 23\n",
        "Faks: 0212 123 23 24\n",
        "e.posta: kistihza@yahoo.com\n",
        "\"\"\""
      ],
      "metadata": {
        "id": "bHkaubJyqMgY"
      },
      "execution_count": null,
      "outputs": []
    },
    {
      "cell_type": "code",
      "source": [
        "print(kartvizit)"
      ],
      "metadata": {
        "colab": {
          "base_uri": "https://localhost:8080/"
        },
        "id": "Lu2gaeE1qR55",
        "outputId": "600c44b2-30e6-4ef4-f998-4619720603ec"
      },
      "execution_count": null,
      "outputs": [
        {
          "output_type": "stream",
          "name": "stdout",
          "text": [
            "\n",
            "İstihza Anonim Şirketi\n",
            "Fırat Özgül\n",
            "Tel: 0212 123 23 23\n",
            "Faks: 0212 123 23 24\n",
            "e.posta: kistihza@yahoo.com\n",
            "\n"
          ]
        }
      ]
    },
    {
      "cell_type": "markdown",
      "source": [
        "* Bu programı yazıp kaydettikten sonra bu programın simgesi üzerine çift tıkladığımızda siyah bir komut ekranının çok hızlı bir şekilde açılıp kapandığını görürüz. Aslında programımız çalışıyor, ama programımız yapması gereken işi yaptıktan hemen sonra kapandığı için biz program penceresini görmüyoruz.\n",
        "\n",
        "* Programımızın çalıştıktan sonra hemen kapanmamasını sağlamak için son satıra bir input() fonksiyonu yerleştirmemiz gerektiğini biliyoruz"
      ],
      "metadata": {
        "id": "_BtD4cywqayP"
      }
    },
    {
      "cell_type": "code",
      "source": [
        "kartvizit = \"\"\"\n",
        "İstihza Anonim Şirketi\n",
        "Fırat Özgül\n",
        "Tel: 0212 123 23 23\n",
        "Faks: 0212 123 23 24\n",
        "e.posta: kistihza@yahoo.com\n",
        "\"\"\"\n",
        "\n",
        "print(kartvizit)\n",
        "\n",
        "input()"
      ],
      "metadata": {
        "colab": {
          "base_uri": "https://localhost:8080/",
          "height": 174
        },
        "id": "wGwVSI2vqbbS",
        "outputId": "2fa778b0-bfc8-4fd0-9f17-c0a39ebf5e73"
      },
      "execution_count": null,
      "outputs": [
        {
          "name": "stdout",
          "output_type": "stream",
          "text": [
            "\n",
            "İstihza Anonim Şirketi\n",
            "Fırat Özgül\n",
            "Tel: 0212 123 23 23\n",
            "Faks: 0212 123 23 24\n",
            "e.posta: kistihza@yahoo.com\n",
            "\n",
            "avsykkl\n"
          ]
        },
        {
          "output_type": "execute_result",
          "data": {
            "text/plain": [
              "'avsykkl'"
            ],
            "application/vnd.google.colaboratory.intrinsic+json": {
              "type": "string"
            }
          },
          "metadata": {},
          "execution_count": 123
        }
      ]
    },
    {
      "cell_type": "code",
      "source": [
        "isim = input(\"İsminiz nedir?\")\n",
        "print(\"Merhaba\", isim, end=\"!\\n\")"
      ],
      "metadata": {
        "colab": {
          "base_uri": "https://localhost:8080/"
        },
        "id": "zsT2rUoVqe6k",
        "outputId": "866d26b9-ad7d-46c9-ea65-b4ffe8f65e02"
      },
      "execution_count": null,
      "outputs": [
        {
          "output_type": "stream",
          "name": "stdout",
          "text": [
            "İsminiz nedir?ankmal\n",
            "Merhaba ankmal!\n"
          ]
        }
      ]
    },
    {
      "cell_type": "code",
      "source": [
        "yaş = int(input(\"Yaşınız: \"))\n",
        "\n",
        "print(\"Demek\", yaş, \"yaşındasın.\")\n",
        "print(\"Genç mi yoksa yaşlı mı olduğuna karar veremedim.\")"
      ],
      "metadata": {
        "colab": {
          "base_uri": "https://localhost:8080/"
        },
        "id": "2ojuod0SqlPd",
        "outputId": "6321af91-0581-4719-c8d7-1c66400274e7"
      },
      "execution_count": null,
      "outputs": [
        {
          "output_type": "stream",
          "name": "stdout",
          "text": [
            "Yaşınız: 15\n",
            "Demek 15 yaşındasın.\n",
            "Genç mi yoksa yaşlı mı olduğuna karar veremedim.\n"
          ]
        }
      ]
    },
    {
      "cell_type": "markdown",
      "source": [
        "<a id=\"11\"></a>\n",
        "## Tip Dönüşümleri"
      ],
      "metadata": {
        "id": "iX5d2teMqvkZ"
      }
    },
    {
      "cell_type": "markdown",
      "source": [
        "![images-python-language-png.png](data:image/png;base64,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)"
      ],
      "metadata": {
        "id": "leQ4tbEMrM-N"
      }
    },
    {
      "cell_type": "code",
      "source": [
        "# Kullanıcıdan dairenin çapını girmesini istiyoruz.\n",
        "çap = input(\"Dairenin alanı: \")\n",
        "\n",
        "# Kullanıcının verdiği çap bilgisini kullanarak\n",
        "# yarıçapı hesaplayalım. Buradaki int() fonksiyonunu\n",
        "# ilk kez görüyoruz. Biraz sonra bunu açıklayacağız\n",
        "\n",
        "yarıçap = int(çap) / 2\n",
        "\n",
        "#pi sayımız sabit\n",
        "pi = 3.14159\n",
        "\n",
        "# Yukarıdaki bilgileri kullanarak artık\n",
        "# dairenin alanını hesaplayabiliriz\n",
        "\n",
        "alan = pi*(yarıçap * yarıçap)\n",
        "\n",
        "# Son olarak, hesapladığımız alanı yazdırıyoruz!\n",
        "\n",
        "print(\"Çapı\", çap, \"cm olan dairenin alanı: \", alan, \"cm²'dir\")"
      ],
      "metadata": {
        "colab": {
          "base_uri": "https://localhost:8080/"
        },
        "id": "VFhlLpDmq5qR",
        "outputId": "796a17bd-17df-44aa-baef-c28048a4c501"
      },
      "execution_count": null,
      "outputs": [
        {
          "output_type": "stream",
          "name": "stdout",
          "text": [
            "Dairenin alanı: 26\n",
            "Çapı 26 cm olan dairenin alanı:  530.92871 cm²'dir\n"
          ]
        }
      ]
    },
    {
      "cell_type": "code",
      "source": [
        "sayı = int(input(\"Lütfen bir sayı giriniz: \"))\n",
        "\n",
        "#Girilen sayının karesini bulmak için sayı değişkeninin 2.\n",
        "#kuvvetini alıyoruz. Aynı şeyi pow() fonksiyonu ile de\n",
        "#yapabileceğimizi biliyorsunuz. Örn.: pow(sayı, 2)\n",
        "\n",
        "print(\"Girdiğiniz sayını karesi :\", pow(sayı,2))"
      ],
      "metadata": {
        "colab": {
          "base_uri": "https://localhost:8080/"
        },
        "id": "aOydn6QFrzzB",
        "outputId": "b1bc650c-a48d-4dd0-9fa6-b1a523e7aab8"
      },
      "execution_count": null,
      "outputs": [
        {
          "output_type": "stream",
          "name": "stdout",
          "text": [
            "Lütfen bir sayı giriniz: 2\n",
            "Girdiğiniz sayını karesi : 4\n"
          ]
        }
      ]
    },
    {
      "cell_type": "markdown",
      "source": [
        "## A) int()\n",
        "\n",
        "* Dediğimiz gibi, input() fonksiyonundan gelen veri **her zaman bir karakter dizisidir.** Dolayısıyla bu fonksiyondan gelen veriyle herhangi bir aritmetik işlem yapabilmek için öncelikle bu veriyi **bir sayıya dönüştürmemiz gerekir.** Bu dönüştürme işlemi için **int()** adlı özel bir dönüştürücü fonksiyondan yararlanacağız. Gelin isterseniz Python’ın etkileşimli kabuğunda bu fonksiyonla bir kaç deneme yaparak bu fonksiyonun ne işe yaradığını ve nasıl kullanıldığını anlamaya çalışalım. Zira etkileşimli kabuk bu tür deneme işlemleri için biçilmiş kaftandır:"
      ],
      "metadata": {
        "id": "yJo_In0rr-nQ"
      }
    },
    {
      "cell_type": "code",
      "source": [
        "karakter_dizisi = \"23\"\n",
        "sayı = int(karakter_dizisi)\n",
        "print(sayı)"
      ],
      "metadata": {
        "colab": {
          "base_uri": "https://localhost:8080/"
        },
        "id": "CyKUHM9wrzv4",
        "outputId": "b6558a79-f339-4c5f-d9bf-4fbc074ee3ca"
      },
      "execution_count": null,
      "outputs": [
        {
          "output_type": "stream",
          "name": "stdout",
          "text": [
            "23\n"
          ]
        }
      ]
    },
    {
      "cell_type": "markdown",
      "source": [
        "## B) str()\n",
        "\n",
        "* Python’daki tip dönüştürücüleri elbette sadece int() fonksiyonuyla sınırlı değildir. Gördüğünüz gibi, int() fonksiyonu sayı değerli verileri (mesela karakter dizilerini) tam sayıya dönüştürüyor. Bunun bir de tersi mümkündür. Yani karakter dizisi olmayan verileri karakter dizisine dönüştürmemiz de mümkündür. Bu işlem için str() adlı başka bir tip dönüştürücüden yararlanıyoruz:"
      ],
      "metadata": {
        "id": "CiRpzRAmsIER"
      }
    },
    {
      "cell_type": "code",
      "source": [
        "sayı = 23\n",
        "kardiz = str(sayı)  # (gof)(x) = g[f(x)] tir. --> fog ≠ gof dir.\n",
        "\n",
        "print(sayı)"
      ],
      "metadata": {
        "colab": {
          "base_uri": "https://localhost:8080/"
        },
        "id": "ggskqn29rzt6",
        "outputId": "73aa5899-25d6-4fc1-ed19-7cba946ce5eb"
      },
      "execution_count": null,
      "outputs": [
        {
          "output_type": "stream",
          "name": "stdout",
          "text": [
            "23\n"
          ]
        }
      ]
    },
    {
      "cell_type": "code",
      "source": [
        "print(type(kardiz))"
      ],
      "metadata": {
        "colab": {
          "base_uri": "https://localhost:8080/"
        },
        "id": "jhNtdI-4rzqd",
        "outputId": "f7e5087a-dead-408d-d9fd-a53fcffac589"
      },
      "execution_count": null,
      "outputs": [
        {
          "output_type": "stream",
          "name": "stdout",
          "text": [
            "<class 'str'>\n"
          ]
        }
      ]
    },
    {
      "cell_type": "markdown",
      "source": [
        "* Gördüğünüz gibi, bir tam sayı olan 23’ü str() adlı bir fonksiyondan yararlanarak karakter dizisi olan “23” ifadesine dönüştürdük. Son satırda da, elde ettiğimiz şeyin bir karakter dizisi olduğundan emin olmak için type() fonksiyonunu kullanarak verinin tipini denetledik."
      ],
      "metadata": {
        "id": "BEb1kyfmsUun"
      }
    },
    {
      "cell_type": "code",
      "source": [
        "sayı = 12343423432\n",
        "kardiz = str(sayı)\n",
        "len(kardiz)"
      ],
      "metadata": {
        "colab": {
          "base_uri": "https://localhost:8080/"
        },
        "id": "lojrVHmUrzlr",
        "outputId": "154ac874-1ec2-4d00-9323-9212ea085a47"
      },
      "execution_count": null,
      "outputs": [
        {
          "output_type": "execute_result",
          "data": {
            "text/plain": [
              "11"
            ]
          },
          "metadata": {},
          "execution_count": 139
        }
      ]
    },
    {
      "cell_type": "code",
      "source": [
        "len(str(12343423432))"
      ],
      "metadata": {
        "colab": {
          "base_uri": "https://localhost:8080/"
        },
        "id": "ZOVJjaSmsbUL",
        "outputId": "0b3b12ed-c7ec-4e0f-b7b0-5310cd87ebab"
      },
      "execution_count": null,
      "outputs": [
        {
          "output_type": "execute_result",
          "data": {
            "text/plain": [
              "11"
            ]
          },
          "metadata": {},
          "execution_count": 140
        }
      ]
    },
    {
      "cell_type": "markdown",
      "source": [
        "* **Bu şekilde iç içe geçmiş fonksiyonlar yazdığımızda, Python fonksiyonları içten dışa doğru tek tek değerlendirecektir. Mesela yukarıdaki örnekte Python önce str(12343423432) ifadesini değerlendirecek ve çıkan sonucu len() fonksiyonuna gönderecektir. İç içe geçmiş fonksiyonları yazarken dikkat etmemiz gereken önemli bir nokta da, açtığımız her bir parantezi tek tek kapatmayı unutmamaktır.**"
      ],
      "metadata": {
        "id": "9auUNbNdsiLt"
      }
    },
    {
      "cell_type": "markdown",
      "source": [
        "## C) float()\n",
        "\n",
        "* Hatırlarsanız ilk bölümlerde sayılardan söz ederken tamsayıların (integer) dışında kayan noktalı sayıların (float) da olduğundan söz etmiştik. İşte eğer bir tamsayıyı veya sayı değerli bir karakter dizisini kayan noktalı sayıya dönüştürmek istersek float() adlı başka bir dönüştürücüden yararlanacağız:\n"
      ],
      "metadata": {
        "id": "7CaCeP9psrfx"
      }
    },
    {
      "cell_type": "code",
      "source": [
        "a = 23\n",
        "type(a)"
      ],
      "metadata": {
        "colab": {
          "base_uri": "https://localhost:8080/"
        },
        "id": "alrUMwtCsq7G",
        "outputId": "9e177e3f-25b1-4d0b-dabc-71cda5b62acf"
      },
      "execution_count": null,
      "outputs": [
        {
          "output_type": "execute_result",
          "data": {
            "text/plain": [
              "int"
            ]
          },
          "metadata": {},
          "execution_count": 141
        }
      ]
    },
    {
      "cell_type": "code",
      "source": [
        "float(a)"
      ],
      "metadata": {
        "colab": {
          "base_uri": "https://localhost:8080/"
        },
        "id": "bdl_nvfBsvnA",
        "outputId": "2ce7d7bc-cea6-4fdd-f79d-288076a78e0a"
      },
      "execution_count": null,
      "outputs": [
        {
          "output_type": "execute_result",
          "data": {
            "text/plain": [
              "23.0"
            ]
          },
          "metadata": {},
          "execution_count": 142
        }
      ]
    },
    {
      "cell_type": "markdown",
      "source": [
        "## D) complex()\n",
        "\n",
        "* Sayılardan söz ederken, eğer matematikle çok fazla içli dışlı değilseniz pek karşılaşmayacağınız, ‘karmaşık sayı’ adlı bir sayı türünden de bahsetmiştik. Karmaşık sayılar Python’da ‘complex’ ifadesiyle gösteriliyor. Mesela şunun bir karmaşık sayı olduğunu biliyoruz: "
      ],
      "metadata": {
        "id": "9c3CHs3Zs3DH"
      }
    },
    {
      "cell_type": "code",
      "source": [
        "a = str(5654)\n",
        "\n",
        "type(a)"
      ],
      "metadata": {
        "colab": {
          "base_uri": "https://localhost:8080/"
        },
        "id": "F-rLAQwasyBE",
        "outputId": "4d6416f6-c8d7-4213-c48a-88a004f21936"
      },
      "execution_count": null,
      "outputs": [
        {
          "output_type": "execute_result",
          "data": {
            "text/plain": [
              "str"
            ]
          },
          "metadata": {},
          "execution_count": 143
        }
      ]
    },
    {
      "cell_type": "code",
      "source": [
        "b = int(\"5654\")\n",
        "type(b)"
      ],
      "metadata": {
        "colab": {
          "base_uri": "https://localhost:8080/"
        },
        "id": "yHbz2Ye3s6x9",
        "outputId": "1659ec80-2c00-43d0-90f6-1e81041d383e"
      },
      "execution_count": null,
      "outputs": [
        {
          "output_type": "execute_result",
          "data": {
            "text/plain": [
              "int"
            ]
          },
          "metadata": {},
          "execution_count": 144
        }
      ]
    },
    {
      "cell_type": "markdown",
      "source": [
        "<a id=\"12\"></a>\n",
        "## format() Metodu"
      ],
      "metadata": {
        "id": "8DqJfSVHtCYK"
      }
    },
    {
      "cell_type": "code",
      "source": [
        "#Öncelikle kullanıcıdan bir internet adresi girmesini istiyoruz!\n",
        "url = input(\"Lütfen ulaşmak istediğiniz sitenin adresini yazın: \")"
      ],
      "metadata": {
        "colab": {
          "base_uri": "https://localhost:8080/"
        },
        "id": "msPCtbaTs_MI",
        "outputId": "c427094c-e51e-4634-a843-1f0dc38b3e2d"
      },
      "execution_count": null,
      "outputs": [
        {
          "name": "stdout",
          "output_type": "stream",
          "text": [
            "Lütfen ulaşmak istediğiniz sitenin adresini yazın: ajknslö\n"
          ]
        }
      ]
    },
    {
      "cell_type": "code",
      "source": [
        "#Şimdi de bu adresin bulunamadığı konusunda kullanıcıyı bilgilendiriyoruz\n",
        "print(\"Hata! Google Chrome\", url, \"sitesini bulamadı\")"
      ],
      "metadata": {
        "colab": {
          "base_uri": "https://localhost:8080/"
        },
        "id": "hlirWKcBtGJC",
        "outputId": "0a3bc436-20d6-48ab-bad3-25ce93d4d1b5"
      },
      "execution_count": null,
      "outputs": [
        {
          "output_type": "stream",
          "name": "stdout",
          "text": [
            "Hata! Google Chrome ajknslö sitesini bulamadı\n"
          ]
        }
      ]
    },
    {
      "cell_type": "markdown",
      "source": [
        "* Gördüğünüz gibi, şimdiye kadar öğrendiğimiz bilgileri kullanarak böyle bir programı rahatlıkla yazabiliyoruz.\n",
        "\n",
        "* Peki ya biz kullanıcının girdiği internet adresini mesela tırnak içinde göstermek istersek ne olacak? Yani örneğin şöyle bir çıktı vermek istersek:"
      ],
      "metadata": {
        "id": "IPyjQeSttPds"
      }
    },
    {
      "cell_type": "code",
      "source": [
        "#Öncelikle kullanıcıdan bir internet adresi girmesini istiyoruz\n",
        "url = input(\"Lütfen ulaşmak istediğiniz sitenin adresini yazın: \")"
      ],
      "metadata": {
        "colab": {
          "base_uri": "https://localhost:8080/"
        },
        "id": "LE07EcFQtKSo",
        "outputId": "3f7d2e83-ad59-45ed-a128-d770783a050d"
      },
      "execution_count": null,
      "outputs": [
        {
          "name": "stdout",
          "output_type": "stream",
          "text": [
            "Lütfen ulaşmak istediğiniz sitenin adresini yazın: jsçs.\n"
          ]
        }
      ]
    },
    {
      "cell_type": "code",
      "source": [
        "#Şimdi de bu adresin bulunamadığı konusunda kullanıcıyı bilgilendiriyoruz\n",
        "print(\"Hata! Google Chrome\", \"'\" + url + \"'\", \"sitesini bulamadı\")"
      ],
      "metadata": {
        "colab": {
          "base_uri": "https://localhost:8080/"
        },
        "id": "-inpcykmtKPt",
        "outputId": "17203f77-42c6-49ce-9073-aab08446e81f"
      },
      "execution_count": null,
      "outputs": [
        {
          "output_type": "stream",
          "name": "stdout",
          "text": [
            "Hata! Google Chrome 'jsçs.' sitesini bulamadı\n"
          ]
        }
      ]
    },
    {
      "cell_type": "markdown",
      "source": [
        "Gördüğünüz gibi bu yöntem işe yarıyor, ama ortaya çıkan karakter dizisi de oldukça karmaşık görünüyor. İşte bu tür ‘karakter dizisi biçimlendirme’ işlemleri için Python bize çok faydalı bir araç sunuyor. Bu aracın adı **format()**."
      ],
      "metadata": {
        "id": "--9Sv_CatdZT"
      }
    },
    {
      "cell_type": "code",
      "source": [
        "#Öncelikle kullanıcıdan bir internet adresi girmesini istiyoruz\n",
        "url = input(\"Lütfen ulaşmak istediğiniz sitenin adresini yazın: \")"
      ],
      "metadata": {
        "colab": {
          "base_uri": "https://localhost:8080/"
        },
        "id": "PF2mUn8FtKMo",
        "outputId": "ad96aa46-3a6c-47d9-ce08-1da86a6aefb2"
      },
      "execution_count": null,
      "outputs": [
        {
          "name": "stdout",
          "output_type": "stream",
          "text": [
            "Lütfen ulaşmak istediğiniz sitenin adresini yazın: www.google.com\n"
          ]
        }
      ]
    },
    {
      "cell_type": "code",
      "source": [
        "#Şimdi de bu adresin bulunamadığı konusunda kullanıcıyı bilgilendiriyoruz\n",
        "print(\"Hata Google Chrome {} sitesini bulamadı.\" . format(url))"
      ],
      "metadata": {
        "colab": {
          "base_uri": "https://localhost:8080/"
        },
        "id": "4yFo-tZLtg1P",
        "outputId": "b2e39a25-b822-4a79-b076-4afaa3a9ae9d"
      },
      "execution_count": null,
      "outputs": [
        {
          "output_type": "stream",
          "name": "stdout",
          "text": [
            "Hata Google Chrome www.google.com sitesini bulamadı.\n"
          ]
        }
      ]
    },
    {
      "cell_type": "code",
      "source": [
        "print(\"Hata Google Chrome '{}' sitesini bulamadı.\" . format(url))"
      ],
      "metadata": {
        "colab": {
          "base_uri": "https://localhost:8080/"
        },
        "id": "-3JsKjcZtvAJ",
        "outputId": "560700d5-290b-48e2-a928-026ffce43ee5"
      },
      "execution_count": null,
      "outputs": [
        {
          "output_type": "stream",
          "name": "stdout",
          "text": [
            "Hata Google Chrome 'www.google.com' sitesini bulamadı.\n"
          ]
        }
      ]
    },
    {
      "cell_type": "code",
      "source": [
        "print(\"{} ve {} iyi bir ikilidir\".format(\"Python\", \"Django\"))"
      ],
      "metadata": {
        "colab": {
          "base_uri": "https://localhost:8080/"
        },
        "id": "i3wEk5-Btx3l",
        "outputId": "93e2983e-0919-4533-c637-322c642b60e9"
      },
      "execution_count": null,
      "outputs": [
        {
          "output_type": "stream",
          "name": "stdout",
          "text": [
            "Python ve Django iyi bir ikilidir\n"
          ]
        }
      ]
    },
    {
      "cell_type": "markdown",
      "source": [
        "## * **Elbette bu örnekleri şöyle de yazabilirdik:**"
      ],
      "metadata": {
        "id": "K1cXzYB1t9x-"
      }
    },
    {
      "cell_type": "code",
      "source": [
        "metin = \"{} {}'nı seviyor!\"\n",
        "metin.format(\"Abdullah\",\"Neyran\")"
      ],
      "metadata": {
        "colab": {
          "base_uri": "https://localhost:8080/",
          "height": 36
        },
        "id": "GCDVvexQt1Fl",
        "outputId": "483b6810-3a78-4179-eee3-250cb23d144b"
      },
      "execution_count": null,
      "outputs": [
        {
          "output_type": "execute_result",
          "data": {
            "text/plain": [
              "\"Abdullah Neyran'nı seviyor!\""
            ],
            "application/vnd.google.colaboratory.intrinsic+json": {
              "type": "string"
            }
          },
          "metadata": {},
          "execution_count": 154
        }
      ]
    },
    {
      "cell_type": "markdown",
      "source": [
        "## Örnek kod4\n",
        "\n",
        "* Şu ana kadar öğrendiğimiz print() fonksiyonunu ve \\t ve \\n gibi kaçış dizilerini kullanarak istediğiniz çıktıyı elde etmeyi deneyebilirsiniz.\n",
        "* Ama denediğinizde siz de göreceksiniz ki, bu tür yöntemleri kullanarak yukarıdaki dilekçe taslağını doldurmak inanılmaz zor ve vakit alıcı olacaktır. \n",
        "* Halbuki bunların hiçbirine gerek yok. Çünkü Python bize bu tür durumlarda kullanılmak üzere çok pratik bir araç sunuyor. Şimdi çok dikkatlice inceleyin şu kodları:"
      ],
      "metadata": {
        "id": "u93z1euguMMY"
      }
    },
    {
      "cell_type": "code",
      "source": [
        "dilekçe = \"\"\"\n",
        "                                                    tarih: {}\n",
        "\n",
        "\n",
        "T.C.\n",
        "{} ÜNİVERSİTESİ\n",
        "{} Fakültesi Dekanlığına\n",
        "\n",
        "\n",
        "Fakülteniz {} Bölümü {} numaralı öğrencisiyim. Ekte sunduğum belgede\n",
        "belirtilen mazeretim gereğince {} Eğitim-Öğretim Yılı  {}.\n",
        "yarıyılında öğrenime ara izni (kayıt dondurma) istiyorum.\n",
        "\n",
        "    Bilgilerinizi ve gereğini arz ederim.\n",
        "\n",
        "        İmza\n",
        "\n",
        "Ad              : {}\n",
        "Soyad           : {}\n",
        "T.C. Kimlik No. : {}\n",
        "Adres           : {}\n",
        "Tel.            : {}\n",
        "Ekler           : {}\n",
        "\"\"\""
      ],
      "metadata": {
        "id": "wuEkfNE7uGjo"
      },
      "execution_count": null,
      "outputs": []
    },
    {
      "cell_type": "code",
      "source": [
        "tarih = input(\"Tarih: \")\n",
        "üniversite = input(\"Üniversite: \")\n",
        "fakülte         = input(\"fakülte adı: \")\n",
        "bölüm           = input(\"bölüm adı: \")\n",
        "öğrenci_no      = input(\"öğrenci no. :\")\n",
        "öğretim_yılı    = input(\"öğretim yılı: \")\n",
        "yarıyıl         = input(\"yarıyıl: \")\n",
        "ad              = input(\"öğrencinin adı: \")\n",
        "soyad           = input(\"öğrencinin soyadı: \")\n",
        "tc_kimlik_no    = input(\"TC Kimlik no. :\")\n",
        "adres           = input(\"adres: \")\n",
        "tel             = input(\"telefon: \")\n",
        "ekler           = input(\"ekler: \")\n",
        "\n",
        "\n",
        "print(\"dilekçe\". format(tarih, üniversite, fakülte, bölüm,\n",
        "                     öğrenci_no, öğretim_yılı, yarıyıl,\n",
        "                     ad, soyad, tc_kimlik_no,\n",
        "                     adres, tel, ekler))"
      ],
      "metadata": {
        "id": "KqwT4OIDuRk3"
      },
      "execution_count": null,
      "outputs": []
    },
    {
      "cell_type": "markdown",
      "source": [
        "<a id=\"13\"></a>\n",
        "## Koşullu Durumlar"
      ],
      "metadata": {
        "id": "TRSCZX-YunjN"
      }
    },
    {
      "cell_type": "code",
      "source": [
        "yaş = 15\n",
        "print(\"\"\"Programa hoşgeldiniz!\n",
        "\n",
        "Programımızı kullanabilmek için en az\n",
        "13 yaşında olmalısınız.\"\"\")\n",
        "\n",
        "print(\"Yaşınız: \", yaş)"
      ],
      "metadata": {
        "id": "JvNy9LbIuU_a"
      },
      "execution_count": null,
      "outputs": []
    },
    {
      "cell_type": "code",
      "source": [
        "print(\"\"\"Programa hoşgeldiniz!\n",
        "\n",
        "Programımızı kullanabilmek için en az\n",
        "13 yaşında olmalısınız.\"\"\")\n",
        "\n",
        "print(\"Lütfen yaşınızı girin.\\n\")\n",
        "\n",
        "yaş = input(\"Yaşınız: \\t\")\n",
        "\n",
        "print(\"Yaşınız: \", yaş)"
      ],
      "metadata": {
        "id": "bY02kbwrurJF"
      },
      "execution_count": null,
      "outputs": []
    },
    {
      "cell_type": "markdown",
      "source": [
        "<a id=\"14\"></a>\n",
        "## Koşul Deyimleri\n",
        "* Hiç kuşkusuz, koşula bağlı durumlar Python’daki en önemli konulardan biridir.\n",
        "* Giriş bölümünde bahsettiğimiz koşullu işlemleri yapabilmek için ‘koşul deyimleri’ adı verilen birtakım araçlardan yararlanacağız.\n",
        "* Gelin şimdi bu araçların neler olduğunu görelim.\n",
        "\n",
        "## 1. if deyimi\n",
        "\n",
        "* Python programlama dilinde koşullu durumları belirtmek için üç adet deyimden yararlanıyoruz:\n",
        "\n",
        "\n",
        "* **if**\n",
        "* **elif**\n",
        "* **else**"
      ],
      "metadata": {
        "id": "GLSISCBTu1oL"
      }
    },
    {
      "cell_type": "code",
      "source": [
        "n = 225 # verdiğimiz değişkenin değerinin bir karakter dizisi değil, \n",
        "            # aksine bir sayı olduğunu görüyoruz. \n",
        "            # Şimdi bu değişkenin değerini sorgulayalım:\n",
        "        \n",
        "if n > 10:"
      ],
      "metadata": {
        "id": "VOvEGSMiuzyb"
      },
      "execution_count": null,
      "outputs": []
    },
    {
      "cell_type": "markdown",
      "source": [
        "* **> büyüktür**\n",
        "* **< küçüktür**\n",
        "* **>= büyük eşittir**\n",
        "* **<= küçük eşittir**\n",
        "* **== eşittir**\n",
        "* **!= eşit değildir**"
      ],
      "metadata": {
        "id": "0pbURsievPVE"
      }
    },
    {
      "cell_type": "code",
      "source": [
        "a = 26"
      ],
      "metadata": {
        "id": "8hMRG8YkvHiX"
      },
      "execution_count": null,
      "outputs": []
    },
    {
      "cell_type": "code",
      "source": [
        "a == 26"
      ],
      "metadata": {
        "id": "cf82HVgLvTZW"
      },
      "execution_count": null,
      "outputs": []
    },
    {
      "cell_type": "code",
      "source": [
        "x = n\n",
        "if n > 10:\n",
        "    print(\"sayı {} 10'dan \\nbüyüktür!\".format(x))"
      ],
      "metadata": {
        "id": "imKPV82_vVyw"
      },
      "execution_count": null,
      "outputs": []
    },
    {
      "cell_type": "code",
      "source": [
        "sayı = int(input(\"Bir sayı giriniz: \\t\"))\n",
        "\n",
        "if sayı > 10:\n",
        "    print(\"{} on'dan büyüktür!\". format(sayı))\n",
        "    \n",
        "if sayı < 10:\n",
        "    print(\"Girdiğiniz sayı 10'dan küçüktür!\")\n",
        "\n",
        "if sayı == 10:\n",
        "    print(\"Girdiğiniz sayı 10'dur!\")"
      ],
      "metadata": {
        "id": "1eZu5JK8vZaI"
      },
      "execution_count": null,
      "outputs": []
    },
    {
      "cell_type": "code",
      "source": [
        "print(\"hacker sistem analizine hoşgeldiniz:\\t\")\n",
        "\n",
        "parola = int(input(\"parolayı giriniz:\\t\"))\n",
        "\n",
        "if parola == 123456789:\n",
        "    print(\"sisteme hoş gldiniz\")\n",
        "elif parola !=123456789:\n",
        "    print(\"parola yanlış\")"
      ],
      "metadata": {
        "id": "9jI2a0jJvfJ0"
      },
      "execution_count": null,
      "outputs": []
    },
    {
      "cell_type": "markdown",
      "source": [
        "## 2. elif deyimi\n",
        "* Python’da, if deyimleriyle birlikte kullanılan ve yine koşul belirten bir başka deyim de elif deyimidir. Buna şöyle bir örnek verebiliriz:"
      ],
      "metadata": {
        "id": "R8OThjcZxOZy"
      }
    },
    {
      "cell_type": "code",
      "source": [
        "yaş = int(input(\"yaşınız:\\t\"))\n",
        "\n",
        "if yaş == 18:\n",
        "    print(\"on sekiz iyidir\")\n",
        "    \n",
        "elif yaş < 18:\n",
        "    print(\"yooo am.....\")\n",
        "    \n",
        "elif yaş > 18:\n",
        "    print(\"artık moruk olmuşsun\")"
      ],
      "metadata": {
        "id": "ujns0PYPw59z"
      },
      "execution_count": null,
      "outputs": []
    },
    {
      "cell_type": "markdown",
      "source": [
        "## Not:\n",
        "\n",
        "* **Şimdiye kadar verdiğimiz örneklerden de rahatlıkla anlayabileceğiniz gibi, ilk koşul bloğunda asla elif deyimi kullanılamaz. Bu deyimin kullanılabilmesi için kendisinden önce en az bir adet if bloğu olmalıdır. Yani Python’da koşullu durumları ifade ederken ilk koşul bloğumuz her zaman if deyimi ile başlamalıdır.**"
      ],
      "metadata": {
        "id": "4CpJrjyLxWgu"
      }
    },
    {
      "cell_type": "markdown",
      "source": [
        "## else deyimi\n",
        "\n",
        "* Şimdiye kadar Python’da koşul bildiren iki deyimi öğrendik. Bunlar if ve elif idi. Bu bölümde ise koşul deyimlerinin sonuncusu olan else deyimini göreceğiz. Öğrendiğimiz şeyleri şöyle bir gözden geçirecek olursak, temel olarak şöyle bir durumla karşı karşıya olduğumuzu görürüz:"
      ],
      "metadata": {
        "id": "R9RfWtTHxcBv"
      }
    },
    {
      "cell_type": "code",
      "source": [
        "soru = str(input(\"meyve ismini giriniz:\\t\"))\n",
        "\n",
        "\n",
        "if soru == \"karpuz\":\n",
        "    print(\"evet {} bir meyvedir.\". format(soru))\n",
        "    \n",
        "elif soru == \"elma\":\n",
        "    print(\"evet aga {} bir meyvedir.\".format(soru))\n",
        "    \n",
        "elif soru == \"karçün\":\n",
        "    print(\"evet {} bir meyvedir.\".format(soru))\n",
        "    \n",
        "else:\n",
        "    print(\"meyve değildir.\")"
      ],
      "metadata": {
        "id": "RsVQttUvxSR6"
      },
      "execution_count": null,
      "outputs": []
    },
    {
      "cell_type": "code",
      "source": [
        "# boy ölçme\n",
        "\n",
        "boy = float(input(\"boyunuz kaç cm? \\t\"))\n",
        "\n",
        "\n",
        "if boy >= 1.81:\n",
        "    print(\"polis olma hakkınız vardır.\")\n",
        "    \n",
        "elif boy >= 1.79:\n",
        "    print(\"polis olmak için mülakatlara girmelisiniz.\")\n",
        "    \n",
        "elif boy >= 1.77:\n",
        "    print(\"polis olmak için mülakatlara  girmelisiniz.\")\n",
        "    \n",
        "else:\n",
        "    print(\"polis olma hakkınız yoktur.\")"
      ],
      "metadata": {
        "id": "IlBGpN_nxfea"
      },
      "execution_count": null,
      "outputs": []
    },
    {
      "cell_type": "code",
      "source": [],
      "metadata": {
        "id": "i2n5rqdGxm6z"
      },
      "execution_count": null,
      "outputs": []
    }
  ]
}